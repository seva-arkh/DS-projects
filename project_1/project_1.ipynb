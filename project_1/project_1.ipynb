{
  "cells": [
    {
      "cell_type": "code",
      "execution_count": null,
      "metadata": {
        "id": "iTNIq0-VTBPE"
      },
      "outputs": [],
      "source": [
        "import pandas as pd\n",
        "import matplotlib.pyplot as plt\n",
        "%matplotlib inline\n",
        "import seaborn as sns\n",
        "import math\n",
        "from sklearn.preprocessing import StandardScaler\n",
        "import numpy as np\n",
        "from sklearn.linear_model import LinearRegression\n",
        "from sklearn.metrics import mean_squared_error\n",
        "from sklearn.model_selection import train_test_split"
      ]
    },
    {
      "cell_type": "code",
      "execution_count": null,
      "metadata": {
        "colab": {
          "base_uri": "https://localhost:8080/"
        },
        "id": "-X5cNrf-THob",
        "outputId": "cd80098e-eb23-4a71-f4d9-5b7ce5303eca"
      },
      "outputs": [
        {
          "output_type": "stream",
          "name": "stdout",
          "text": [
            "Mounted at /content/gdrive\n"
          ]
        }
      ],
      "source": [
        "from google.colab import drive\n",
        "drive.mount('/content/gdrive')"
      ]
    },
    {
      "cell_type": "code",
      "execution_count": null,
      "metadata": {
        "id": "aywkYAmmTIIA"
      },
      "outputs": [],
      "source": [
        "!unzip gdrive/My\\ Drive/Colab\\ Notebooks/data/new-york-city-taxi-fare-prediction.zip > /dev/null"
      ]
    },
    {
      "cell_type": "code",
      "execution_count": null,
      "metadata": {
        "id": "eYR7UaGnOwEJ"
      },
      "outputs": [],
      "source": [
        "! pip install joblibspark"
      ]
    },
    {
      "cell_type": "code",
      "execution_count": null,
      "metadata": {
        "colab": {
          "base_uri": "https://localhost:8080/"
        },
        "id": "oCmPU_3hqfff",
        "outputId": "c5f1564b-030f-4582-dee5-08983f48d915"
      },
      "outputs": [
        {
          "output_type": "stream",
          "name": "stdout",
          "text": [
            "Collecting pyspark\n",
            "  Downloading pyspark-3.2.1.tar.gz (281.4 MB)\n",
            "\u001b[K     |████████████████████████████████| 281.4 MB 28 kB/s \n",
            "\u001b[?25hCollecting py4j==0.10.9.3\n",
            "  Downloading py4j-0.10.9.3-py2.py3-none-any.whl (198 kB)\n",
            "\u001b[K     |████████████████████████████████| 198 kB 45.8 MB/s \n",
            "\u001b[?25hBuilding wheels for collected packages: pyspark\n",
            "  Building wheel for pyspark (setup.py) ... \u001b[?25l\u001b[?25hdone\n",
            "  Created wheel for pyspark: filename=pyspark-3.2.1-py2.py3-none-any.whl size=281853642 sha256=0aab63993d9cc0c320b28ff87b85c39b9e65e8c2c884b7a30d4c08d5df854e04\n",
            "  Stored in directory: /root/.cache/pip/wheels/9f/f5/07/7cd8017084dce4e93e84e92efd1e1d5334db05f2e83bcef74f\n",
            "Successfully built pyspark\n",
            "Installing collected packages: py4j, pyspark\n",
            "Successfully installed py4j-0.10.9.3 pyspark-3.2.1\n"
          ]
        }
      ],
      "source": [
        "! pip install pyspark"
      ]
    },
    {
      "cell_type": "code",
      "execution_count": null,
      "metadata": {
        "id": "irKWbit2qkCH"
      },
      "outputs": [],
      "source": [
        "from pyspark.sql import SparkSession\n",
        "spark = SparkSession.builder \\\n",
        "    .master(\"local\") \\\n",
        "    .appName(\"Final_Project\") \\\n",
        "    .getOrCreate()"
      ]
    },
    {
      "cell_type": "code",
      "execution_count": null,
      "metadata": {
        "id": "dRZXl_NPTIpe"
      },
      "outputs": [],
      "source": [
        "df = pd.read_csv('train.csv', nrows=4_000_000)"
      ]
    },
    {
      "cell_type": "markdown",
      "metadata": {
        "id": "rWCEcwjZUjpp"
      },
      "source": [
        "The task is to predicting the fare amount for a taxi ride in New York City given pickup and dropoff locations, date, time, and number of passenders)\n",
        "(https://www.kaggle.com/competitions/new-york-city-taxi-fare-prediction/overview) (there are 55 million records in train file)"
      ]
    },
    {
      "cell_type": "code",
      "execution_count": null,
      "metadata": {
        "colab": {
          "base_uri": "https://localhost:8080/",
          "height": 204
        },
        "id": "wPOjwfaBTIxD",
        "outputId": "71a47269-2748-4cfd-e335-98bd794dedc6"
      },
      "outputs": [
        {
          "data": {
            "text/html": [
              "<div>\n",
              "<style scoped>\n",
              "    .dataframe tbody tr th:only-of-type {\n",
              "        vertical-align: middle;\n",
              "    }\n",
              "\n",
              "    .dataframe tbody tr th {\n",
              "        vertical-align: top;\n",
              "    }\n",
              "\n",
              "    .dataframe thead th {\n",
              "        text-align: right;\n",
              "    }\n",
              "</style>\n",
              "<table border=\"1\" class=\"dataframe\">\n",
              "  <thead>\n",
              "    <tr style=\"text-align: right;\">\n",
              "      <th></th>\n",
              "      <th>key</th>\n",
              "      <th>fare_amount</th>\n",
              "      <th>pickup_datetime</th>\n",
              "      <th>pickup_longitude</th>\n",
              "      <th>pickup_latitude</th>\n",
              "      <th>dropoff_longitude</th>\n",
              "      <th>dropoff_latitude</th>\n",
              "      <th>passenger_count</th>\n",
              "    </tr>\n",
              "  </thead>\n",
              "  <tbody>\n",
              "    <tr>\n",
              "      <th>0</th>\n",
              "      <td>2009-06-15 17:26:21.0000001</td>\n",
              "      <td>4.5</td>\n",
              "      <td>2009-06-15 17:26:21 UTC</td>\n",
              "      <td>-73.844311</td>\n",
              "      <td>40.721319</td>\n",
              "      <td>-73.841610</td>\n",
              "      <td>40.712278</td>\n",
              "      <td>1</td>\n",
              "    </tr>\n",
              "    <tr>\n",
              "      <th>1</th>\n",
              "      <td>2010-01-05 16:52:16.0000002</td>\n",
              "      <td>16.9</td>\n",
              "      <td>2010-01-05 16:52:16 UTC</td>\n",
              "      <td>-74.016048</td>\n",
              "      <td>40.711303</td>\n",
              "      <td>-73.979268</td>\n",
              "      <td>40.782004</td>\n",
              "      <td>1</td>\n",
              "    </tr>\n",
              "    <tr>\n",
              "      <th>2</th>\n",
              "      <td>2011-08-18 00:35:00.00000049</td>\n",
              "      <td>5.7</td>\n",
              "      <td>2011-08-18 00:35:00 UTC</td>\n",
              "      <td>-73.982738</td>\n",
              "      <td>40.761270</td>\n",
              "      <td>-73.991242</td>\n",
              "      <td>40.750562</td>\n",
              "      <td>2</td>\n",
              "    </tr>\n",
              "    <tr>\n",
              "      <th>3</th>\n",
              "      <td>2012-04-21 04:30:42.0000001</td>\n",
              "      <td>7.7</td>\n",
              "      <td>2012-04-21 04:30:42 UTC</td>\n",
              "      <td>-73.987130</td>\n",
              "      <td>40.733143</td>\n",
              "      <td>-73.991567</td>\n",
              "      <td>40.758092</td>\n",
              "      <td>1</td>\n",
              "    </tr>\n",
              "    <tr>\n",
              "      <th>4</th>\n",
              "      <td>2010-03-09 07:51:00.000000135</td>\n",
              "      <td>5.3</td>\n",
              "      <td>2010-03-09 07:51:00 UTC</td>\n",
              "      <td>-73.968095</td>\n",
              "      <td>40.768008</td>\n",
              "      <td>-73.956655</td>\n",
              "      <td>40.783762</td>\n",
              "      <td>1</td>\n",
              "    </tr>\n",
              "  </tbody>\n",
              "</table>\n",
              "</div>"
            ],
            "text/plain": [
              "                             key  fare_amount          pickup_datetime  \\\n",
              "0    2009-06-15 17:26:21.0000001          4.5  2009-06-15 17:26:21 UTC   \n",
              "1    2010-01-05 16:52:16.0000002         16.9  2010-01-05 16:52:16 UTC   \n",
              "2   2011-08-18 00:35:00.00000049          5.7  2011-08-18 00:35:00 UTC   \n",
              "3    2012-04-21 04:30:42.0000001          7.7  2012-04-21 04:30:42 UTC   \n",
              "4  2010-03-09 07:51:00.000000135          5.3  2010-03-09 07:51:00 UTC   \n",
              "\n",
              "   pickup_longitude  pickup_latitude  dropoff_longitude  dropoff_latitude  \\\n",
              "0        -73.844311        40.721319         -73.841610         40.712278   \n",
              "1        -74.016048        40.711303         -73.979268         40.782004   \n",
              "2        -73.982738        40.761270         -73.991242         40.750562   \n",
              "3        -73.987130        40.733143         -73.991567         40.758092   \n",
              "4        -73.968095        40.768008         -73.956655         40.783762   \n",
              "\n",
              "   passenger_count  \n",
              "0                1  \n",
              "1                1  \n",
              "2                2  \n",
              "3                1  \n",
              "4                1  "
            ]
          },
          "execution_count": 7,
          "metadata": {},
          "output_type": "execute_result"
        }
      ],
      "source": [
        "df.head()"
      ]
    },
    {
      "cell_type": "code",
      "execution_count": null,
      "metadata": {
        "colab": {
          "base_uri": "https://localhost:8080/"
        },
        "id": "4SmvPvwSTI4F",
        "outputId": "366958cc-a442-48f1-a1a9-d2445211bec1"
      },
      "outputs": [
        {
          "data": {
            "text/plain": [
              "key                   object\n",
              "fare_amount          float64\n",
              "pickup_datetime       object\n",
              "pickup_longitude     float64\n",
              "pickup_latitude      float64\n",
              "dropoff_longitude    float64\n",
              "dropoff_latitude     float64\n",
              "passenger_count        int64\n",
              "dtype: object"
            ]
          },
          "execution_count": 8,
          "metadata": {},
          "output_type": "execute_result"
        }
      ],
      "source": [
        "df.dtypes"
      ]
    },
    {
      "cell_type": "markdown",
      "source": [
        "# Data Cleaning"
      ],
      "metadata": {
        "id": "SMahAxAwPffZ"
      }
    },
    {
      "cell_type": "code",
      "execution_count": null,
      "metadata": {
        "colab": {
          "base_uri": "https://localhost:8080/"
        },
        "id": "6AuZ_BgMTJDp",
        "outputId": "e282cada-2827-4c8e-d8a9-7ea216905d3b"
      },
      "outputs": [
        {
          "data": {
            "text/plain": [
              "key                   0\n",
              "fare_amount           0\n",
              "pickup_datetime       0\n",
              "pickup_longitude      0\n",
              "pickup_latitude       0\n",
              "dropoff_longitude    29\n",
              "dropoff_latitude     29\n",
              "passenger_count       0\n",
              "dtype: int64"
            ]
          },
          "execution_count": 10,
          "metadata": {},
          "output_type": "execute_result"
        }
      ],
      "source": [
        "df.isnull().sum()"
      ]
    },
    {
      "cell_type": "markdown",
      "metadata": {
        "id": "NhFKevTqUqGK"
      },
      "source": [
        "As the number of missing values is quite low. They were dropped"
      ]
    },
    {
      "cell_type": "code",
      "execution_count": null,
      "metadata": {
        "id": "W9zqVqJuTJRK"
      },
      "outputs": [],
      "source": [
        "df = df.dropna()"
      ]
    },
    {
      "cell_type": "code",
      "execution_count": null,
      "metadata": {
        "colab": {
          "base_uri": "https://localhost:8080/"
        },
        "id": "g3RzxRNc2yDv",
        "outputId": "6f6a76d8-db71-4952-de75-8fdd4a981a4d"
      },
      "outputs": [
        {
          "data": {
            "text/plain": [
              "(3999971, 8)"
            ]
          },
          "execution_count": 12,
          "metadata": {},
          "output_type": "execute_result"
        }
      ],
      "source": [
        "df.shape"
      ]
    },
    {
      "cell_type": "markdown",
      "metadata": {
        "id": "yMqG0tVrU3Ed"
      },
      "source": [
        "# Removing invalid data \n",
        "The borders for longitude and latitude: -74.9 and -72.9, 40.47 and 41.04. The number of passengers cannot be more than 7"
      ]
    },
    {
      "cell_type": "code",
      "execution_count": null,
      "metadata": {
        "colab": {
          "base_uri": "https://localhost:8080/",
          "height": 204
        },
        "id": "x33WZkZrTJYc",
        "outputId": "1ceb955a-8c7b-4f4f-c345-766d052362b4"
      },
      "outputs": [
        {
          "data": {
            "text/html": [
              "<div>\n",
              "<style scoped>\n",
              "    .dataframe tbody tr th:only-of-type {\n",
              "        vertical-align: middle;\n",
              "    }\n",
              "\n",
              "    .dataframe tbody tr th {\n",
              "        vertical-align: top;\n",
              "    }\n",
              "\n",
              "    .dataframe thead th {\n",
              "        text-align: right;\n",
              "    }\n",
              "</style>\n",
              "<table border=\"1\" class=\"dataframe\">\n",
              "  <thead>\n",
              "    <tr style=\"text-align: right;\">\n",
              "      <th></th>\n",
              "      <th>key</th>\n",
              "      <th>fare_amount</th>\n",
              "      <th>pickup_datetime</th>\n",
              "      <th>pickup_longitude</th>\n",
              "      <th>pickup_latitude</th>\n",
              "      <th>dropoff_longitude</th>\n",
              "      <th>dropoff_latitude</th>\n",
              "      <th>passenger_count</th>\n",
              "    </tr>\n",
              "  </thead>\n",
              "  <tbody>\n",
              "    <tr>\n",
              "      <th>0</th>\n",
              "      <td>2009-06-15 17:26:21.0000001</td>\n",
              "      <td>4.5</td>\n",
              "      <td>2009-06-15 17:26:21 UTC</td>\n",
              "      <td>-73.844311</td>\n",
              "      <td>40.721319</td>\n",
              "      <td>-73.841610</td>\n",
              "      <td>40.712278</td>\n",
              "      <td>1</td>\n",
              "    </tr>\n",
              "    <tr>\n",
              "      <th>1</th>\n",
              "      <td>2010-01-05 16:52:16.0000002</td>\n",
              "      <td>16.9</td>\n",
              "      <td>2010-01-05 16:52:16 UTC</td>\n",
              "      <td>-74.016048</td>\n",
              "      <td>40.711303</td>\n",
              "      <td>-73.979268</td>\n",
              "      <td>40.782004</td>\n",
              "      <td>1</td>\n",
              "    </tr>\n",
              "    <tr>\n",
              "      <th>2</th>\n",
              "      <td>2011-08-18 00:35:00.00000049</td>\n",
              "      <td>5.7</td>\n",
              "      <td>2011-08-18 00:35:00 UTC</td>\n",
              "      <td>-73.982738</td>\n",
              "      <td>40.761270</td>\n",
              "      <td>-73.991242</td>\n",
              "      <td>40.750562</td>\n",
              "      <td>2</td>\n",
              "    </tr>\n",
              "    <tr>\n",
              "      <th>3</th>\n",
              "      <td>2012-04-21 04:30:42.0000001</td>\n",
              "      <td>7.7</td>\n",
              "      <td>2012-04-21 04:30:42 UTC</td>\n",
              "      <td>-73.987130</td>\n",
              "      <td>40.733143</td>\n",
              "      <td>-73.991567</td>\n",
              "      <td>40.758092</td>\n",
              "      <td>1</td>\n",
              "    </tr>\n",
              "    <tr>\n",
              "      <th>4</th>\n",
              "      <td>2010-03-09 07:51:00.000000135</td>\n",
              "      <td>5.3</td>\n",
              "      <td>2010-03-09 07:51:00 UTC</td>\n",
              "      <td>-73.968095</td>\n",
              "      <td>40.768008</td>\n",
              "      <td>-73.956655</td>\n",
              "      <td>40.783762</td>\n",
              "      <td>1</td>\n",
              "    </tr>\n",
              "  </tbody>\n",
              "</table>\n",
              "</div>"
            ],
            "text/plain": [
              "                             key  fare_amount          pickup_datetime  \\\n",
              "0    2009-06-15 17:26:21.0000001          4.5  2009-06-15 17:26:21 UTC   \n",
              "1    2010-01-05 16:52:16.0000002         16.9  2010-01-05 16:52:16 UTC   \n",
              "2   2011-08-18 00:35:00.00000049          5.7  2011-08-18 00:35:00 UTC   \n",
              "3    2012-04-21 04:30:42.0000001          7.7  2012-04-21 04:30:42 UTC   \n",
              "4  2010-03-09 07:51:00.000000135          5.3  2010-03-09 07:51:00 UTC   \n",
              "\n",
              "   pickup_longitude  pickup_latitude  dropoff_longitude  dropoff_latitude  \\\n",
              "0        -73.844311        40.721319         -73.841610         40.712278   \n",
              "1        -74.016048        40.711303         -73.979268         40.782004   \n",
              "2        -73.982738        40.761270         -73.991242         40.750562   \n",
              "3        -73.987130        40.733143         -73.991567         40.758092   \n",
              "4        -73.968095        40.768008         -73.956655         40.783762   \n",
              "\n",
              "   passenger_count  \n",
              "0                1  \n",
              "1                1  \n",
              "2                2  \n",
              "3                1  \n",
              "4                1  "
            ]
          },
          "execution_count": 13,
          "metadata": {},
          "output_type": "execute_result"
        }
      ],
      "source": [
        "df = df[df['fare_amount'] > 0]\n",
        "df = df[df['passenger_count'] > 0]\n",
        "df = df[df['passenger_count'] < 7]\n",
        "df = df[df['pickup_longitude'] < -72.9]\n",
        "df = df[df['pickup_longitude'] > -74.5]\n",
        "df = df[df['dropoff_longitude'] < -72.9]\n",
        "df = df[df['dropoff_longitude'] > -74.5]\n",
        "df = df[df['pickup_latitude'] < 41.04]\n",
        "df = df[df['pickup_latitude'] > 40.47]\n",
        "df = df[df['dropoff_latitude'] < 41.04]\n",
        "df = df[df['dropoff_latitude'] > 40.47]\n",
        "df.head()"
      ]
    },
    {
      "cell_type": "markdown",
      "source": [
        "# Data Transformstion"
      ],
      "metadata": {
        "id": "aosFxaHuP3C-"
      }
    },
    {
      "cell_type": "markdown",
      "metadata": {
        "id": "rAunHX21VY4g"
      },
      "source": [
        "From key feature 4 new columns were created (year, month, day, hour)"
      ]
    },
    {
      "cell_type": "code",
      "execution_count": null,
      "metadata": {
        "colab": {
          "base_uri": "https://localhost:8080/",
          "height": 204
        },
        "id": "Nnlo_W1WBMc6",
        "outputId": "1f798f83-a7f2-4a55-c85b-a62b27fc9f0f"
      },
      "outputs": [
        {
          "data": {
            "text/html": [
              "<div>\n",
              "<style scoped>\n",
              "    .dataframe tbody tr th:only-of-type {\n",
              "        vertical-align: middle;\n",
              "    }\n",
              "\n",
              "    .dataframe tbody tr th {\n",
              "        vertical-align: top;\n",
              "    }\n",
              "\n",
              "    .dataframe thead th {\n",
              "        text-align: right;\n",
              "    }\n",
              "</style>\n",
              "<table border=\"1\" class=\"dataframe\">\n",
              "  <thead>\n",
              "    <tr style=\"text-align: right;\">\n",
              "      <th></th>\n",
              "      <th>fare_amount</th>\n",
              "      <th>pickup_longitude</th>\n",
              "      <th>pickup_latitude</th>\n",
              "      <th>dropoff_longitude</th>\n",
              "      <th>dropoff_latitude</th>\n",
              "      <th>passenger_count</th>\n",
              "      <th>day</th>\n",
              "      <th>year</th>\n",
              "      <th>month</th>\n",
              "      <th>hour</th>\n",
              "    </tr>\n",
              "  </thead>\n",
              "  <tbody>\n",
              "    <tr>\n",
              "      <th>0</th>\n",
              "      <td>4.5</td>\n",
              "      <td>-73.844311</td>\n",
              "      <td>40.721319</td>\n",
              "      <td>-73.841610</td>\n",
              "      <td>40.712278</td>\n",
              "      <td>1</td>\n",
              "      <td>Monday</td>\n",
              "      <td>2009</td>\n",
              "      <td>6</td>\n",
              "      <td>17</td>\n",
              "    </tr>\n",
              "    <tr>\n",
              "      <th>1</th>\n",
              "      <td>16.9</td>\n",
              "      <td>-74.016048</td>\n",
              "      <td>40.711303</td>\n",
              "      <td>-73.979268</td>\n",
              "      <td>40.782004</td>\n",
              "      <td>1</td>\n",
              "      <td>Tuesday</td>\n",
              "      <td>2010</td>\n",
              "      <td>1</td>\n",
              "      <td>16</td>\n",
              "    </tr>\n",
              "    <tr>\n",
              "      <th>2</th>\n",
              "      <td>5.7</td>\n",
              "      <td>-73.982738</td>\n",
              "      <td>40.761270</td>\n",
              "      <td>-73.991242</td>\n",
              "      <td>40.750562</td>\n",
              "      <td>2</td>\n",
              "      <td>Thursday</td>\n",
              "      <td>2011</td>\n",
              "      <td>8</td>\n",
              "      <td>0</td>\n",
              "    </tr>\n",
              "    <tr>\n",
              "      <th>3</th>\n",
              "      <td>7.7</td>\n",
              "      <td>-73.987130</td>\n",
              "      <td>40.733143</td>\n",
              "      <td>-73.991567</td>\n",
              "      <td>40.758092</td>\n",
              "      <td>1</td>\n",
              "      <td>Saturday</td>\n",
              "      <td>2012</td>\n",
              "      <td>4</td>\n",
              "      <td>4</td>\n",
              "    </tr>\n",
              "    <tr>\n",
              "      <th>4</th>\n",
              "      <td>5.3</td>\n",
              "      <td>-73.968095</td>\n",
              "      <td>40.768008</td>\n",
              "      <td>-73.956655</td>\n",
              "      <td>40.783762</td>\n",
              "      <td>1</td>\n",
              "      <td>Tuesday</td>\n",
              "      <td>2010</td>\n",
              "      <td>3</td>\n",
              "      <td>7</td>\n",
              "    </tr>\n",
              "  </tbody>\n",
              "</table>\n",
              "</div>"
            ],
            "text/plain": [
              "   fare_amount  pickup_longitude  pickup_latitude  dropoff_longitude  \\\n",
              "0          4.5        -73.844311        40.721319         -73.841610   \n",
              "1         16.9        -74.016048        40.711303         -73.979268   \n",
              "2          5.7        -73.982738        40.761270         -73.991242   \n",
              "3          7.7        -73.987130        40.733143         -73.991567   \n",
              "4          5.3        -73.968095        40.768008         -73.956655   \n",
              "\n",
              "   dropoff_latitude  passenger_count       day  year  month  hour  \n",
              "0         40.712278                1    Monday  2009      6    17  \n",
              "1         40.782004                1   Tuesday  2010      1    16  \n",
              "2         40.750562                2  Thursday  2011      8     0  \n",
              "3         40.758092                1  Saturday  2012      4     4  \n",
              "4         40.783762                1   Tuesday  2010      3     7  "
            ]
          },
          "execution_count": 14,
          "metadata": {},
          "output_type": "execute_result"
        }
      ],
      "source": [
        "df['key_1'] = df['pickup_datetime'].apply(lambda x: x.split())\n",
        "df['key_2']= df['key_1'].apply(lambda x: x[0].split('-'))\n",
        "df['key_3'] = df['key_1'].apply(lambda x: x[0])\n",
        "df['date'] = pd.to_datetime(df['key_3'])\n",
        "df['day'] = df['date'].dt.day_name()\n",
        "df['year'] = df['key_2'].apply(lambda x: int(x[0]))\n",
        "df['month'] = df['key_2'].apply(lambda x: int(x[1]))\n",
        "\n",
        "df['key_2']=df['key_1'].apply(lambda x: x[1].split(':'))\n",
        "df['hour'] = df['key_2'].apply(lambda x: int(x[0]))\n",
        "df = df.drop(['key', 'pickup_datetime', 'key_1', 'key_2', 'key_3', 'date'], axis=1)\n",
        "df.head()"
      ]
    },
    {
      "cell_type": "markdown",
      "metadata": {
        "id": "OW9DVMMf7gZj"
      },
      "source": [
        "Converting categorical feature 'day' to numerical using OneHotEncoder"
      ]
    },
    {
      "cell_type": "code",
      "execution_count": null,
      "metadata": {
        "colab": {
          "base_uri": "https://localhost:8080/",
          "height": 204
        },
        "id": "mnJOo0Ke5El1",
        "outputId": "f3b9645c-7a9d-4c22-95b5-1c2d260bf609"
      },
      "outputs": [
        {
          "data": {
            "text/html": [
              "<div>\n",
              "<style scoped>\n",
              "    .dataframe tbody tr th:only-of-type {\n",
              "        vertical-align: middle;\n",
              "    }\n",
              "\n",
              "    .dataframe tbody tr th {\n",
              "        vertical-align: top;\n",
              "    }\n",
              "\n",
              "    .dataframe thead th {\n",
              "        text-align: right;\n",
              "    }\n",
              "</style>\n",
              "<table border=\"1\" class=\"dataframe\">\n",
              "  <thead>\n",
              "    <tr style=\"text-align: right;\">\n",
              "      <th></th>\n",
              "      <th>fare_amount</th>\n",
              "      <th>pickup_longitude</th>\n",
              "      <th>pickup_latitude</th>\n",
              "      <th>dropoff_longitude</th>\n",
              "      <th>dropoff_latitude</th>\n",
              "      <th>passenger_count</th>\n",
              "      <th>year</th>\n",
              "      <th>month</th>\n",
              "      <th>hour</th>\n",
              "      <th>Friday</th>\n",
              "      <th>Monday</th>\n",
              "      <th>Saturday</th>\n",
              "      <th>Sunday</th>\n",
              "      <th>Thursday</th>\n",
              "      <th>Tuesday</th>\n",
              "      <th>Wednesday</th>\n",
              "    </tr>\n",
              "  </thead>\n",
              "  <tbody>\n",
              "    <tr>\n",
              "      <th>0</th>\n",
              "      <td>4.5</td>\n",
              "      <td>-73.844311</td>\n",
              "      <td>40.721319</td>\n",
              "      <td>-73.841610</td>\n",
              "      <td>40.712278</td>\n",
              "      <td>1</td>\n",
              "      <td>2009</td>\n",
              "      <td>6</td>\n",
              "      <td>17</td>\n",
              "      <td>0.0</td>\n",
              "      <td>1.0</td>\n",
              "      <td>0.0</td>\n",
              "      <td>0.0</td>\n",
              "      <td>0.0</td>\n",
              "      <td>0.0</td>\n",
              "      <td>0.0</td>\n",
              "    </tr>\n",
              "    <tr>\n",
              "      <th>1</th>\n",
              "      <td>16.9</td>\n",
              "      <td>-74.016048</td>\n",
              "      <td>40.711303</td>\n",
              "      <td>-73.979268</td>\n",
              "      <td>40.782004</td>\n",
              "      <td>1</td>\n",
              "      <td>2010</td>\n",
              "      <td>1</td>\n",
              "      <td>16</td>\n",
              "      <td>0.0</td>\n",
              "      <td>0.0</td>\n",
              "      <td>0.0</td>\n",
              "      <td>0.0</td>\n",
              "      <td>0.0</td>\n",
              "      <td>1.0</td>\n",
              "      <td>0.0</td>\n",
              "    </tr>\n",
              "    <tr>\n",
              "      <th>2</th>\n",
              "      <td>5.7</td>\n",
              "      <td>-73.982738</td>\n",
              "      <td>40.761270</td>\n",
              "      <td>-73.991242</td>\n",
              "      <td>40.750562</td>\n",
              "      <td>2</td>\n",
              "      <td>2011</td>\n",
              "      <td>8</td>\n",
              "      <td>0</td>\n",
              "      <td>0.0</td>\n",
              "      <td>0.0</td>\n",
              "      <td>0.0</td>\n",
              "      <td>0.0</td>\n",
              "      <td>1.0</td>\n",
              "      <td>0.0</td>\n",
              "      <td>0.0</td>\n",
              "    </tr>\n",
              "    <tr>\n",
              "      <th>3</th>\n",
              "      <td>7.7</td>\n",
              "      <td>-73.987130</td>\n",
              "      <td>40.733143</td>\n",
              "      <td>-73.991567</td>\n",
              "      <td>40.758092</td>\n",
              "      <td>1</td>\n",
              "      <td>2012</td>\n",
              "      <td>4</td>\n",
              "      <td>4</td>\n",
              "      <td>0.0</td>\n",
              "      <td>0.0</td>\n",
              "      <td>1.0</td>\n",
              "      <td>0.0</td>\n",
              "      <td>0.0</td>\n",
              "      <td>0.0</td>\n",
              "      <td>0.0</td>\n",
              "    </tr>\n",
              "    <tr>\n",
              "      <th>4</th>\n",
              "      <td>5.3</td>\n",
              "      <td>-73.968095</td>\n",
              "      <td>40.768008</td>\n",
              "      <td>-73.956655</td>\n",
              "      <td>40.783762</td>\n",
              "      <td>1</td>\n",
              "      <td>2010</td>\n",
              "      <td>3</td>\n",
              "      <td>7</td>\n",
              "      <td>0.0</td>\n",
              "      <td>0.0</td>\n",
              "      <td>0.0</td>\n",
              "      <td>0.0</td>\n",
              "      <td>0.0</td>\n",
              "      <td>1.0</td>\n",
              "      <td>0.0</td>\n",
              "    </tr>\n",
              "  </tbody>\n",
              "</table>\n",
              "</div>"
            ],
            "text/plain": [
              "   fare_amount  pickup_longitude  pickup_latitude  dropoff_longitude  \\\n",
              "0          4.5        -73.844311        40.721319         -73.841610   \n",
              "1         16.9        -74.016048        40.711303         -73.979268   \n",
              "2          5.7        -73.982738        40.761270         -73.991242   \n",
              "3          7.7        -73.987130        40.733143         -73.991567   \n",
              "4          5.3        -73.968095        40.768008         -73.956655   \n",
              "\n",
              "   dropoff_latitude  passenger_count  year  month  hour  Friday  Monday  \\\n",
              "0         40.712278                1  2009      6    17     0.0     1.0   \n",
              "1         40.782004                1  2010      1    16     0.0     0.0   \n",
              "2         40.750562                2  2011      8     0     0.0     0.0   \n",
              "3         40.758092                1  2012      4     4     0.0     0.0   \n",
              "4         40.783762                1  2010      3     7     0.0     0.0   \n",
              "\n",
              "   Saturday  Sunday  Thursday  Tuesday  Wednesday  \n",
              "0       0.0     0.0       0.0      0.0        0.0  \n",
              "1       0.0     0.0       0.0      1.0        0.0  \n",
              "2       0.0     0.0       1.0      0.0        0.0  \n",
              "3       1.0     0.0       0.0      0.0        0.0  \n",
              "4       0.0     0.0       0.0      1.0        0.0  "
            ]
          },
          "execution_count": 15,
          "metadata": {},
          "output_type": "execute_result"
        }
      ],
      "source": [
        "from sklearn.preprocessing import OneHotEncoder\n",
        "enc = OneHotEncoder(handle_unknown='ignore')\n",
        "enc_t = enc.fit_transform(df[['day']])\n",
        "df[enc.categories_[0]] = enc_t.toarray()\n",
        "df = df.drop(['day'], axis=1)\n",
        "df.head()"
      ]
    },
    {
      "cell_type": "markdown",
      "metadata": {
        "id": "-kX2-IP3bOuK"
      },
      "source": [
        "As the distances are small. We can calculate them using Pythagorian's theorem on eqirectangular projection: \n",
        "### x = cos((lat1 + lat2)* PI / 360) * (lon1 - lon2) * PI /180\n",
        "### y = (lat1 - lat2) * PI / 180\n",
        "### d = R * sqrt(x^2 +y^2)"
      ]
    },
    {
      "cell_type": "code",
      "execution_count": null,
      "metadata": {
        "colab": {
          "base_uri": "https://localhost:8080/",
          "height": 285
        },
        "id": "8PVChz8_BMm5",
        "outputId": "72e75ec0-c085-4dc3-816e-ff3b45af8e9e"
      },
      "outputs": [
        {
          "data": {
            "text/html": [
              "<div>\n",
              "<style scoped>\n",
              "    .dataframe tbody tr th:only-of-type {\n",
              "        vertical-align: middle;\n",
              "    }\n",
              "\n",
              "    .dataframe tbody tr th {\n",
              "        vertical-align: top;\n",
              "    }\n",
              "\n",
              "    .dataframe thead th {\n",
              "        text-align: right;\n",
              "    }\n",
              "</style>\n",
              "<table border=\"1\" class=\"dataframe\">\n",
              "  <thead>\n",
              "    <tr style=\"text-align: right;\">\n",
              "      <th></th>\n",
              "      <th>fare_amount</th>\n",
              "      <th>pickup_longitude</th>\n",
              "      <th>pickup_latitude</th>\n",
              "      <th>dropoff_longitude</th>\n",
              "      <th>dropoff_latitude</th>\n",
              "      <th>passenger_count</th>\n",
              "      <th>year</th>\n",
              "      <th>month</th>\n",
              "      <th>hour</th>\n",
              "      <th>Friday</th>\n",
              "      <th>Monday</th>\n",
              "      <th>Saturday</th>\n",
              "      <th>Sunday</th>\n",
              "      <th>Thursday</th>\n",
              "      <th>Tuesday</th>\n",
              "      <th>Wednesday</th>\n",
              "      <th>longitude_distance</th>\n",
              "      <th>latitude_distance</th>\n",
              "      <th>distance (km)</th>\n",
              "    </tr>\n",
              "  </thead>\n",
              "  <tbody>\n",
              "    <tr>\n",
              "      <th>0</th>\n",
              "      <td>4.5</td>\n",
              "      <td>-73.844311</td>\n",
              "      <td>40.721319</td>\n",
              "      <td>-73.841610</td>\n",
              "      <td>40.712278</td>\n",
              "      <td>1</td>\n",
              "      <td>2009</td>\n",
              "      <td>6</td>\n",
              "      <td>17</td>\n",
              "      <td>0.0</td>\n",
              "      <td>1.0</td>\n",
              "      <td>0.0</td>\n",
              "      <td>0.0</td>\n",
              "      <td>0.0</td>\n",
              "      <td>0.0</td>\n",
              "      <td>0.0</td>\n",
              "      <td>-0.002701</td>\n",
              "      <td>0.009041</td>\n",
              "      <td>1.027720</td>\n",
              "    </tr>\n",
              "    <tr>\n",
              "      <th>1</th>\n",
              "      <td>16.9</td>\n",
              "      <td>-74.016048</td>\n",
              "      <td>40.711303</td>\n",
              "      <td>-73.979268</td>\n",
              "      <td>40.782004</td>\n",
              "      <td>1</td>\n",
              "      <td>2010</td>\n",
              "      <td>1</td>\n",
              "      <td>16</td>\n",
              "      <td>0.0</td>\n",
              "      <td>0.0</td>\n",
              "      <td>0.0</td>\n",
              "      <td>0.0</td>\n",
              "      <td>0.0</td>\n",
              "      <td>1.0</td>\n",
              "      <td>0.0</td>\n",
              "      <td>-0.036780</td>\n",
              "      <td>-0.070701</td>\n",
              "      <td>8.382356</td>\n",
              "    </tr>\n",
              "    <tr>\n",
              "      <th>2</th>\n",
              "      <td>5.7</td>\n",
              "      <td>-73.982738</td>\n",
              "      <td>40.761270</td>\n",
              "      <td>-73.991242</td>\n",
              "      <td>40.750562</td>\n",
              "      <td>2</td>\n",
              "      <td>2011</td>\n",
              "      <td>8</td>\n",
              "      <td>0</td>\n",
              "      <td>0.0</td>\n",
              "      <td>0.0</td>\n",
              "      <td>0.0</td>\n",
              "      <td>0.0</td>\n",
              "      <td>1.0</td>\n",
              "      <td>0.0</td>\n",
              "      <td>0.0</td>\n",
              "      <td>0.008504</td>\n",
              "      <td>0.010708</td>\n",
              "      <td>1.367530</td>\n",
              "    </tr>\n",
              "    <tr>\n",
              "      <th>3</th>\n",
              "      <td>7.7</td>\n",
              "      <td>-73.987130</td>\n",
              "      <td>40.733143</td>\n",
              "      <td>-73.991567</td>\n",
              "      <td>40.758092</td>\n",
              "      <td>1</td>\n",
              "      <td>2012</td>\n",
              "      <td>4</td>\n",
              "      <td>4</td>\n",
              "      <td>0.0</td>\n",
              "      <td>0.0</td>\n",
              "      <td>1.0</td>\n",
              "      <td>0.0</td>\n",
              "      <td>0.0</td>\n",
              "      <td>0.0</td>\n",
              "      <td>0.0</td>\n",
              "      <td>0.004437</td>\n",
              "      <td>-0.024949</td>\n",
              "      <td>2.796301</td>\n",
              "    </tr>\n",
              "    <tr>\n",
              "      <th>4</th>\n",
              "      <td>5.3</td>\n",
              "      <td>-73.968095</td>\n",
              "      <td>40.768008</td>\n",
              "      <td>-73.956655</td>\n",
              "      <td>40.783762</td>\n",
              "      <td>1</td>\n",
              "      <td>2010</td>\n",
              "      <td>3</td>\n",
              "      <td>7</td>\n",
              "      <td>0.0</td>\n",
              "      <td>0.0</td>\n",
              "      <td>0.0</td>\n",
              "      <td>0.0</td>\n",
              "      <td>0.0</td>\n",
              "      <td>1.0</td>\n",
              "      <td>0.0</td>\n",
              "      <td>-0.011440</td>\n",
              "      <td>-0.015754</td>\n",
              "      <td>1.971863</td>\n",
              "    </tr>\n",
              "  </tbody>\n",
              "</table>\n",
              "</div>"
            ],
            "text/plain": [
              "   fare_amount  pickup_longitude  pickup_latitude  dropoff_longitude  \\\n",
              "0          4.5        -73.844311        40.721319         -73.841610   \n",
              "1         16.9        -74.016048        40.711303         -73.979268   \n",
              "2          5.7        -73.982738        40.761270         -73.991242   \n",
              "3          7.7        -73.987130        40.733143         -73.991567   \n",
              "4          5.3        -73.968095        40.768008         -73.956655   \n",
              "\n",
              "   dropoff_latitude  passenger_count  year  month  hour  Friday  Monday  \\\n",
              "0         40.712278                1  2009      6    17     0.0     1.0   \n",
              "1         40.782004                1  2010      1    16     0.0     0.0   \n",
              "2         40.750562                2  2011      8     0     0.0     0.0   \n",
              "3         40.758092                1  2012      4     4     0.0     0.0   \n",
              "4         40.783762                1  2010      3     7     0.0     0.0   \n",
              "\n",
              "   Saturday  Sunday  Thursday  Tuesday  Wednesday  longitude_distance  \\\n",
              "0       0.0     0.0       0.0      0.0        0.0           -0.002701   \n",
              "1       0.0     0.0       0.0      1.0        0.0           -0.036780   \n",
              "2       0.0     0.0       1.0      0.0        0.0            0.008504   \n",
              "3       1.0     0.0       0.0      0.0        0.0            0.004437   \n",
              "4       0.0     0.0       0.0      1.0        0.0           -0.011440   \n",
              "\n",
              "   latitude_distance  distance (km)  \n",
              "0           0.009041       1.027720  \n",
              "1          -0.070701       8.382356  \n",
              "2           0.010708       1.367530  \n",
              "3          -0.024949       2.796301  \n",
              "4          -0.015754       1.971863  "
            ]
          },
          "execution_count": 16,
          "metadata": {},
          "output_type": "execute_result"
        }
      ],
      "source": [
        "R = 6371\n",
        "df['longitude_distance'] = (df['pickup_longitude'] - df['dropoff_longitude'])\n",
        "df['latitude_distance'] = (df['pickup_latitude'] - df['dropoff_latitude'])\n",
        "y = (df['latitude_distance']*math.pi/180)\n",
        "c = (df['pickup_latitude']*math.pi/180 + df['dropoff_latitude']*math.pi/180)/2\n",
        "c.apply(lambda x: math.cos(x))\n",
        "x = (c*df['longitude_distance']*math.pi/180)\n",
        "df['distance (km)'] = R*(x**2 + y**2)**(1/2)\n",
        "df.head()"
      ]
    },
    {
      "cell_type": "markdown",
      "metadata": {
        "id": "XSmPcrswfndd"
      },
      "source": [
        "Most of the cars fit maximum 4 passengers. If there are more than 4 passengers not all cars will fit (can affect price)."
      ]
    },
    {
      "cell_type": "code",
      "execution_count": null,
      "metadata": {
        "colab": {
          "base_uri": "https://localhost:8080/",
          "height": 285
        },
        "id": "1dX9DVx4BNFe",
        "outputId": "0785ed98-3718-4c92-cc0f-52a79132c925"
      },
      "outputs": [
        {
          "data": {
            "text/html": [
              "<div>\n",
              "<style scoped>\n",
              "    .dataframe tbody tr th:only-of-type {\n",
              "        vertical-align: middle;\n",
              "    }\n",
              "\n",
              "    .dataframe tbody tr th {\n",
              "        vertical-align: top;\n",
              "    }\n",
              "\n",
              "    .dataframe thead th {\n",
              "        text-align: right;\n",
              "    }\n",
              "</style>\n",
              "<table border=\"1\" class=\"dataframe\">\n",
              "  <thead>\n",
              "    <tr style=\"text-align: right;\">\n",
              "      <th></th>\n",
              "      <th>fare_amount</th>\n",
              "      <th>pickup_longitude</th>\n",
              "      <th>pickup_latitude</th>\n",
              "      <th>dropoff_longitude</th>\n",
              "      <th>dropoff_latitude</th>\n",
              "      <th>year</th>\n",
              "      <th>month</th>\n",
              "      <th>hour</th>\n",
              "      <th>Friday</th>\n",
              "      <th>Monday</th>\n",
              "      <th>Saturday</th>\n",
              "      <th>Sunday</th>\n",
              "      <th>Thursday</th>\n",
              "      <th>Tuesday</th>\n",
              "      <th>Wednesday</th>\n",
              "      <th>longitude_distance</th>\n",
              "      <th>latitude_distance</th>\n",
              "      <th>distance (km)</th>\n",
              "      <th>big_car</th>\n",
              "    </tr>\n",
              "  </thead>\n",
              "  <tbody>\n",
              "    <tr>\n",
              "      <th>0</th>\n",
              "      <td>4.5</td>\n",
              "      <td>-73.844311</td>\n",
              "      <td>40.721319</td>\n",
              "      <td>-73.841610</td>\n",
              "      <td>40.712278</td>\n",
              "      <td>2009</td>\n",
              "      <td>6</td>\n",
              "      <td>17</td>\n",
              "      <td>0.0</td>\n",
              "      <td>1.0</td>\n",
              "      <td>0.0</td>\n",
              "      <td>0.0</td>\n",
              "      <td>0.0</td>\n",
              "      <td>0.0</td>\n",
              "      <td>0.0</td>\n",
              "      <td>-0.002701</td>\n",
              "      <td>0.009041</td>\n",
              "      <td>1.027720</td>\n",
              "      <td>0</td>\n",
              "    </tr>\n",
              "    <tr>\n",
              "      <th>1</th>\n",
              "      <td>16.9</td>\n",
              "      <td>-74.016048</td>\n",
              "      <td>40.711303</td>\n",
              "      <td>-73.979268</td>\n",
              "      <td>40.782004</td>\n",
              "      <td>2010</td>\n",
              "      <td>1</td>\n",
              "      <td>16</td>\n",
              "      <td>0.0</td>\n",
              "      <td>0.0</td>\n",
              "      <td>0.0</td>\n",
              "      <td>0.0</td>\n",
              "      <td>0.0</td>\n",
              "      <td>1.0</td>\n",
              "      <td>0.0</td>\n",
              "      <td>-0.036780</td>\n",
              "      <td>-0.070701</td>\n",
              "      <td>8.382356</td>\n",
              "      <td>0</td>\n",
              "    </tr>\n",
              "    <tr>\n",
              "      <th>2</th>\n",
              "      <td>5.7</td>\n",
              "      <td>-73.982738</td>\n",
              "      <td>40.761270</td>\n",
              "      <td>-73.991242</td>\n",
              "      <td>40.750562</td>\n",
              "      <td>2011</td>\n",
              "      <td>8</td>\n",
              "      <td>0</td>\n",
              "      <td>0.0</td>\n",
              "      <td>0.0</td>\n",
              "      <td>0.0</td>\n",
              "      <td>0.0</td>\n",
              "      <td>1.0</td>\n",
              "      <td>0.0</td>\n",
              "      <td>0.0</td>\n",
              "      <td>0.008504</td>\n",
              "      <td>0.010708</td>\n",
              "      <td>1.367530</td>\n",
              "      <td>0</td>\n",
              "    </tr>\n",
              "    <tr>\n",
              "      <th>3</th>\n",
              "      <td>7.7</td>\n",
              "      <td>-73.987130</td>\n",
              "      <td>40.733143</td>\n",
              "      <td>-73.991567</td>\n",
              "      <td>40.758092</td>\n",
              "      <td>2012</td>\n",
              "      <td>4</td>\n",
              "      <td>4</td>\n",
              "      <td>0.0</td>\n",
              "      <td>0.0</td>\n",
              "      <td>1.0</td>\n",
              "      <td>0.0</td>\n",
              "      <td>0.0</td>\n",
              "      <td>0.0</td>\n",
              "      <td>0.0</td>\n",
              "      <td>0.004437</td>\n",
              "      <td>-0.024949</td>\n",
              "      <td>2.796301</td>\n",
              "      <td>0</td>\n",
              "    </tr>\n",
              "    <tr>\n",
              "      <th>4</th>\n",
              "      <td>5.3</td>\n",
              "      <td>-73.968095</td>\n",
              "      <td>40.768008</td>\n",
              "      <td>-73.956655</td>\n",
              "      <td>40.783762</td>\n",
              "      <td>2010</td>\n",
              "      <td>3</td>\n",
              "      <td>7</td>\n",
              "      <td>0.0</td>\n",
              "      <td>0.0</td>\n",
              "      <td>0.0</td>\n",
              "      <td>0.0</td>\n",
              "      <td>0.0</td>\n",
              "      <td>1.0</td>\n",
              "      <td>0.0</td>\n",
              "      <td>-0.011440</td>\n",
              "      <td>-0.015754</td>\n",
              "      <td>1.971863</td>\n",
              "      <td>0</td>\n",
              "    </tr>\n",
              "  </tbody>\n",
              "</table>\n",
              "</div>"
            ],
            "text/plain": [
              "   fare_amount  pickup_longitude  pickup_latitude  dropoff_longitude  \\\n",
              "0          4.5        -73.844311        40.721319         -73.841610   \n",
              "1         16.9        -74.016048        40.711303         -73.979268   \n",
              "2          5.7        -73.982738        40.761270         -73.991242   \n",
              "3          7.7        -73.987130        40.733143         -73.991567   \n",
              "4          5.3        -73.968095        40.768008         -73.956655   \n",
              "\n",
              "   dropoff_latitude  year  month  hour  Friday  Monday  Saturday  Sunday  \\\n",
              "0         40.712278  2009      6    17     0.0     1.0       0.0     0.0   \n",
              "1         40.782004  2010      1    16     0.0     0.0       0.0     0.0   \n",
              "2         40.750562  2011      8     0     0.0     0.0       0.0     0.0   \n",
              "3         40.758092  2012      4     4     0.0     0.0       1.0     0.0   \n",
              "4         40.783762  2010      3     7     0.0     0.0       0.0     0.0   \n",
              "\n",
              "   Thursday  Tuesday  Wednesday  longitude_distance  latitude_distance  \\\n",
              "0       0.0      0.0        0.0           -0.002701           0.009041   \n",
              "1       0.0      1.0        0.0           -0.036780          -0.070701   \n",
              "2       1.0      0.0        0.0            0.008504           0.010708   \n",
              "3       0.0      0.0        0.0            0.004437          -0.024949   \n",
              "4       0.0      1.0        0.0           -0.011440          -0.015754   \n",
              "\n",
              "   distance (km)  big_car  \n",
              "0       1.027720        0  \n",
              "1       8.382356        0  \n",
              "2       1.367530        0  \n",
              "3       2.796301        0  \n",
              "4       1.971863        0  "
            ]
          },
          "execution_count": 17,
          "metadata": {},
          "output_type": "execute_result"
        }
      ],
      "source": [
        "df['big_car'] = df['passenger_count'].apply(lambda x: 1 if x>4 else 0)\n",
        "df = df.drop(['passenger_count'], axis=1)\n",
        "df.head()\n"
      ]
    },
    {
      "cell_type": "markdown",
      "metadata": {
        "id": "fBoYwMp-gV0C"
      },
      "source": [
        "As it can be seen on the heatmap there is a strong correlation between distance and fare amount. Some correlation also exist between fare_amount and longitude. There is approximately 0 correlation between big_car and fare_amount"
      ]
    },
    {
      "cell_type": "code",
      "execution_count": null,
      "metadata": {
        "colab": {
          "base_uri": "https://localhost:8080/",
          "height": 952
        },
        "id": "5bdOOehoBNar",
        "outputId": "e0e2ce3e-491e-407f-f67f-cc042324ec84"
      },
      "outputs": [
        {
          "data": {
            "image/png": "[encoded data removed]",
            "text/plain": [
              "<Figure size 1080x1080 with 2 Axes>"
            ]
          },
          "metadata": {
            "needs_background": "light"
          },
          "output_type": "display_data"
        }
      ],
      "source": [
        "plt.figure(figsize=(15,15))\n",
        "sns.heatmap(df.corr(),cbar=True,annot=True,cmap='Blues');"
      ]
    },
    {
      "cell_type": "code",
      "execution_count": null,
      "metadata": {
        "id": "tsXbtLekBNxT"
      },
      "outputs": [],
      "source": [
        "y = df[['fare_amount']]\n",
        "x = df.drop(['fare_amount'], axis=1)"
      ]
    },
    {
      "cell_type": "markdown",
      "source": [
        "Conver pandas dataframe to pyspark.pandas (train size = 10000, test_size = 2000)"
      ],
      "metadata": {
        "id": "BtT7Thb6QhDx"
      }
    },
    {
      "cell_type": "code",
      "execution_count": null,
      "metadata": {
        "id": "Ygh3ECPEhXRR"
      },
      "outputs": [],
      "source": [
        "import pyspark.pandas as ps\n",
        "train = ps.from_pandas(df[:10000])\n",
        "test = ps.from_pandas(df[10000:12000])"
      ]
    },
    {
      "cell_type": "markdown",
      "source": [
        "Conver pyspark.pandas dataframe to spark"
      ],
      "metadata": {
        "id": "wsANTTJIQsIl"
      }
    },
    {
      "cell_type": "code",
      "execution_count": null,
      "metadata": {
        "id": "9NX3vNK6nK6v"
      },
      "outputs": [],
      "source": [
        "train = train.to_spark()\n",
        "test = test.to_spark()"
      ]
    },
    {
      "cell_type": "markdown",
      "source": [
        "# Linear Regression"
      ],
      "metadata": {
        "id": "HgkAin-sRB_a"
      }
    },
    {
      "cell_type": "markdown",
      "source": [
        "Create vector column which consists of all features of a datasets except lables"
      ],
      "metadata": {
        "id": "sSDD4u6FRFmX"
      }
    },
    {
      "cell_type": "code",
      "execution_count": null,
      "metadata": {
        "id": "RfiQpb50tDUB"
      },
      "outputs": [],
      "source": [
        "from pyspark.ml.feature import VectorAssembler\n",
        "ic = ['pickup_longitude', 'pickup_latitude',\n",
        "       'dropoff_longitude', 'dropoff_latitude',\n",
        "       'year', 'month', 'hour', 'Friday', 'Monday', 'Saturday', 'Sunday',\n",
        "       'Thursday', 'Tuesday', 'Wednesday', 'longitude_distance',\n",
        "       'latitude_distance', 'distance (km)', 'big_car']\n",
        "numericColumnAssembler = VectorAssembler(inputCols=ic,\n",
        "                                        outputCol=\"numericVector\")\n",
        "train_lr = numericColumnAssembler.transform(train)\n",
        "test_lr = numericColumnAssembler.transform(test)"
      ]
    },
    {
      "cell_type": "markdown",
      "source": [
        "Train the model"
      ],
      "metadata": {
        "id": "McT0J9DTRM6Q"
      }
    },
    {
      "cell_type": "code",
      "execution_count": null,
      "metadata": {
        "id": "3BHwmDY7BOKJ"
      },
      "outputs": [],
      "source": [
        "from pyspark.ml.regression import LinearRegression\n",
        "lr = LinearRegression(featuresCol='numericVector',  labelCol='fare_amount')\n",
        "lrModel = lr.fit(train_lr)\n"
      ]
    },
    {
      "cell_type": "markdown",
      "source": [
        "Results are evaluated using RMSE"
      ],
      "metadata": {
        "id": "JeO2UJ8sRQvg"
      }
    },
    {
      "cell_type": "code",
      "execution_count": null,
      "metadata": {
        "id": "Ix4AJrRdBOTf",
        "outputId": "3bb07c10-036a-4868-b059-cc2e625426e7"
      },
      "outputs": [
        {
          "name": "stdout",
          "output_type": "stream",
          "text": [
            "RMSE: 4.959933\n",
            "r2: 0.730147\n"
          ]
        }
      ],
      "source": [
        "trainingSummary = lrModel.summary\n",
        "print(\"RMSE: %f\" % trainingSummary.rootMeanSquaredError)\n",
        "print(\"r2: %f\" % trainingSummary.r2)"
      ]
    },
    {
      "cell_type": "code",
      "execution_count": null,
      "metadata": {
        "id": "43BYCYE_BnKS",
        "outputId": "6bf5622a-34b6-4cb0-8731-9da18c1e7b86"
      },
      "outputs": [
        {
          "name": "stdout",
          "output_type": "stream",
          "text": [
            "Root Mean Squared Error (RMSE) on test data = 4.35749\n"
          ]
        }
      ],
      "source": [
        "predictions = lrModel.transform(test_lr)\n",
        "from pyspark.ml.evaluation import RegressionEvaluator\n",
        "evaluator = RegressionEvaluator(labelCol=\"fare_amount\",\n",
        "                                predictionCol=\"prediction\",\n",
        "                                metricName=\"rmse\")\n",
        "\n",
        "rmse = evaluator.evaluate(predictions)\n",
        "print(\"Root Mean Squared Error (RMSE) on test data = %g\" % rmse)"
      ]
    },
    {
      "cell_type": "code",
      "execution_count": null,
      "metadata": {
        "id": "WGcAAUVAB483"
      },
      "outputs": [],
      "source": [
        ""
      ]
    },
    {
      "cell_type": "markdown",
      "source": [
        "# Random Forest"
      ],
      "metadata": {
        "id": "qgAyOs01RWB3"
      }
    },
    {
      "cell_type": "markdown",
      "source": [
        "Converting train and test dataframes to dataframes with two columns features (all features in a vector) and label"
      ],
      "metadata": {
        "id": "o1ewyE_eRZ0M"
      }
    },
    {
      "cell_type": "code",
      "execution_count": null,
      "metadata": {
        "id": "naZMfv6IB5L7"
      },
      "outputs": [],
      "source": [
        "from pyspark.sql import Row\n",
        "from pyspark.ml.linalg import Vectors\n",
        "\n",
        "def transData(data):\n",
        "    return data.rdd.map(lambda r: [Vectors.dense(r[1:]),r[0]]).toDF(['features', 'label'])"
      ]
    },
    {
      "cell_type": "code",
      "execution_count": null,
      "metadata": {
        "colab": {
          "base_uri": "https://localhost:8080/",
          "height": 477
        },
        "id": "5mMc8aJMyW9N",
        "outputId": "7fc96921-2001-4d8a-fc96-f9cfcae28834"
      },
      "outputs": [
        {
          "name": "stdout",
          "output_type": "stream",
          "text": [
            "+--------------------+-----+\n",
            "|            features|label|\n",
            "+--------------------+-----+\n",
            "|[-73.844311,40.72...|  4.5|\n",
            "|[-74.016048,40.71...| 16.9|\n",
            "+--------------------+-----+\n",
            "only showing top 2 rows\n",
            "\n"
          ]
        }
      ],
      "source": [
        "train_rf = transData(train)\n",
        "test_rf = transData(test)\n",
        "train_rf.show(2)"
      ]
    },
    {
      "cell_type": "markdown",
      "source": [
        "Create random hyperparameter grid (will be used in RandomizedSearchCV). \n",
        "* numbTrees: number of trees in the forest\n",
        "* featureSubsetStrategy: Number of features to use as candidates for splitting at each tree node\n",
        "* maxDepth: maximum number of levels in each tree\n",
        "* minInstancesPerNode: minimum number of data points each child have after a split"
      ],
      "metadata": {
        "id": "KF_B2a4xRuJ2"
      }
    },
    {
      "cell_type": "code",
      "execution_count": null,
      "metadata": {
        "id": "kn-xRoKBOwEn"
      },
      "outputs": [],
      "source": [
        "from pyspark.ml.tuning import ParamGridBuilder\n",
        "from pyspark.ml.regression import RandomForestRegressor\n",
        "\n",
        "rf = RandomForestRegressor(featuresCol='features',labelCol='label')\n",
        "\n",
        "paramGrid = ParamGridBuilder() \\\n",
        "    .addGrid(rf.numTrees, [int(x) for x in np.linspace(start = 10, stop = 50, num = 3)]) \\\n",
        "    .addGrid(rf.featureSubsetStrategy, ['auto', 'sqrt']) \\\n",
        "    .addGrid(rf.maxDepth, [int(x) for x in np.linspace(start = 5, stop = 25, num = 3)]) \\\n",
        "    .addGrid(rf.minInstancesPerNode, [2,5,10]) \\\n",
        "    .build()"
      ]
    },
    {
      "cell_type": "markdown",
      "source": [
        "Create cross-validation with 3 folds, RandomForest estimator, RegressionEvaluator, and ParamGrid"
      ],
      "metadata": {
        "id": "tbDfqaaPSFdE"
      }
    },
    {
      "cell_type": "code",
      "execution_count": null,
      "metadata": {
        "id": "Pjb6Cj6vOwEo"
      },
      "outputs": [],
      "source": [
        "from pyspark.ml.tuning import CrossValidator\n",
        "from pyspark.ml.evaluation import RegressionEvaluator\n",
        "crossval = CrossValidator(estimator=rf, estimatorParamMaps=paramGrid, evaluator=RegressionEvaluator(), numFolds=3)"
      ]
    },
    {
      "cell_type": "markdown",
      "source": [
        "Training and evaluationg results of Random Search (randomly selects sets of parameters from the grid)"
      ],
      "metadata": {
        "id": "bLcHSo25SCbd"
      }
    },
    {
      "cell_type": "code",
      "execution_count": null,
      "metadata": {
        "id": "2xc_t8onOwEo"
      },
      "outputs": [],
      "source": [
        "cvModel = crossval.fit(train_rf)\n",
        "predictions = cvModel.transform(test_rf)"
      ]
    },
    {
      "cell_type": "code",
      "execution_count": null,
      "metadata": {
        "id": "J2oQxeB5OwEp"
      },
      "outputs": [],
      "source": [
        "evaluator = RegressionEvaluator(labelCol=\"label\", predictionCol=\"prediction\", metricName=\"rmse\")\n",
        "rmse = evaluator.evaluate(predictions)"
      ]
    },
    {
      "cell_type": "markdown",
      "source": [
        "The result is much better than linear regression has (4.35749)"
      ],
      "metadata": {
        "id": "fNirJdwMSOub"
      }
    },
    {
      "cell_type": "code",
      "execution_count": null,
      "metadata": {
        "colab": {
          "base_uri": "https://localhost:8080/",
          "height": 429
        },
        "id": "8NOXskOWB5bS",
        "outputId": "c2079468-785c-45c7-fcbc-4be8a6298a04"
      },
      "outputs": [
        {
          "name": "stdout",
          "output_type": "stream",
          "text": [
            "3.7163677519147646\n"
          ]
        }
      ],
      "source": [
        "print(rmse)"
      ]
    },
    {
      "cell_type": "code",
      "execution_count": null,
      "metadata": {
        "id": "KspFagyYB8Nl"
      },
      "outputs": [],
      "source": [
        "bestModel = cvModel.bestModel"
      ]
    },
    {
      "cell_type": "markdown",
      "source": [
        "The best parameters of RandomForest from Random Search "
      ],
      "metadata": {
        "id": "g0M7huehSfX1"
      }
    },
    {
      "cell_type": "code",
      "execution_count": null,
      "metadata": {
        "id": "kBRSPoi2DaUJ",
        "outputId": "a75ec584-6fce-497c-85c3-bdbec577bb09"
      },
      "outputs": [
        {
          "name": "stdout",
          "output_type": "stream",
          "text": [
            "numTrees:  50\n",
            "featureSubsetStrategy:  auto\n",
            "maxDepth:  25\n",
            "minInstancesPerNode:  5\n"
          ]
        }
      ],
      "source": [
        "print('numTrees: ', bestModel.getNumTrees)\n",
        "print('featureSubsetStrategy: ', bestModel.getOrDefault('featureSubsetStrategy'))\n",
        "print('maxDepth: ', bestModel.getOrDefault('maxDepth'))\n",
        "print('minInstancesPerNode: ', bestModel.getOrDefault('minInstancesPerNode'))"
      ]
    },
    {
      "cell_type": "markdown",
      "source": [
        "Comparing the results of two models base model (default parameters) and best model with parameters which were just found above"
      ],
      "metadata": {
        "id": "rNTQVYtqSktg"
      }
    },
    {
      "cell_type": "code",
      "execution_count": null,
      "metadata": {
        "id": "MZOSvz-POwEq",
        "outputId": "78846851-a303-4287-83cd-3290a7c880c9"
      },
      "outputs": [
        {
          "name": "stdout",
          "output_type": "stream",
          "text": [
            "Base Model\n",
            "RMSE on train data = 4.55475\n",
            "RMSE on test data = 4.34586\n",
            "\n",
            "Best Model\n",
            "RMSE on train data = 3.42367\n",
            "RMSE on test data = 3.75593\n"
          ]
        }
      ],
      "source": [
        "base = RandomForestRegressor(featuresCol='features',labelCol='label', seed=42)\n",
        "base_model = base.fit(train_rf)\n",
        "train_base = base_model.transform(train_rf)\n",
        "predictions_base = base_model.transform(test_rf)\n",
        "rmse_t = evaluator.evaluate(train_base)\n",
        "rmse = evaluator.evaluate(predictions_base)\n",
        "print(\"Base Model\")\n",
        "print(\"RMSE on train data = %g\" % rmse_t)\n",
        "print(\"RMSE on test data = %g\\n\" % rmse)\n",
        "\n",
        "best = RandomForestRegressor(featuresCol='features',labelCol='label', numTrees=50, maxDepth=25, minInstancesPerNode=5)\n",
        "best_model = best.fit(train_rf)\n",
        "train_best = best_model.transform(train_rf)\n",
        "predictions_best = best_model.transform(test_rf)\n",
        "rmse_t = evaluator.evaluate(train_best)\n",
        "rmse = evaluator.evaluate(predictions_best)\n",
        "print(\"Best Model\")\n",
        "print(\"RMSE on train data = %g\" % rmse_t)\n",
        "print(\"RMSE on test data = %g\" % rmse)"
      ]
    },
    {
      "cell_type": "markdown",
      "source": [
        "There is a significance difference: between base and best model on both training and test sets."
      ],
      "metadata": {
        "id": "Ua0WUXy0SodH"
      }
    },
    {
      "cell_type": "markdown",
      "source": [
        "Random search gave some understanding of a range where the perfect parameters can be. It means the we can put much less values for parameters in ParamGrid. Hence, all combinations of parameters can be checked. GridSearch helps us find the best parameters from the new hyperparameter grid. (There is no implementation of GridSearch in spark. So I decided to use sklearn. There is one way how to do this in spark. It is in the last cell of the file. I got an error when tried to use it) "
      ],
      "metadata": {
        "id": "_SEmfBecSqVW"
      }
    },
    {
      "cell_type": "code",
      "execution_count": null,
      "metadata": {
        "id": "8Wy7p7U7OwEq",
        "outputId": "ae70fbd0-69b0-4363-e053-43be6fc81a9b"
      },
      "outputs": [
        {
          "data": {
            "text/plain": [
              "{'max_depth': 25, 'min_samples_split': 3, 'n_estimators': 54}"
            ]
          },
          "execution_count": 40,
          "metadata": {},
          "output_type": "execute_result"
        }
      ],
      "source": [
        "from sklearn.ensemble import RandomForestRegressor as RandomForestRegressor_sk\n",
        "from sklearn.model_selection import GridSearchCV\n",
        "\n",
        "param_grid = {\n",
        "    'max_depth': [25, 29, 33, 37],\n",
        "    'min_samples_split': [3, 5, 7],\n",
        "    'n_estimators': [46, 50, 54]\n",
        "}\n",
        "\n",
        "rf = RandomForestRegressor_sk()\n",
        "train_gs = df[['fare_amount']][:10000]\n",
        "train_gs = df.drop(['fare_amount'], axis=1)[:10000]\n",
        "\n",
        "grid_search = GridSearchCV(estimator = rf, param_grid = param_grid, \n",
        "                          cv = 3, n_jobs = -1)\n",
        "grid_search.fit(train_gs, train_gs)\n",
        "grid_search.best_params_"
      ]
    },
    {
      "cell_type": "markdown",
      "source": [
        "Evaluating the final results and comparing them with the reselts of the model with the parameters from Random Search."
      ],
      "metadata": {
        "id": "vYR4g_YKSxAA"
      }
    },
    {
      "cell_type": "code",
      "execution_count": null,
      "metadata": {
        "scrolled": true,
        "id": "0oB4O1tZOwEr",
        "outputId": "640f3e55-66b2-46ed-dd6f-563be178a667"
      },
      "outputs": [
        {
          "name": "stdout",
          "output_type": "stream",
          "text": [
            "Best Model\n",
            "RMSE on train data = 3.40707\n",
            "RMSE on test data = 3.71699\n"
          ]
        }
      ],
      "source": [
        "best = RandomForestRegressor(featuresCol='features',labelCol='label', numTrees=54, maxDepth=25, minInstancesPerNode=5)\n",
        "best_model = best.fit(train_rf)\n",
        "train_best = best_model.transform(train_rf)\n",
        "predictions_best = best_model.transform(test_rf)\n",
        "rmse_t = evaluator.evaluate(train_best)\n",
        "rmse = evaluator.evaluate(predictions_best)\n",
        "print(\"Best Model\")\n",
        "print(\"RMSE on train data = %g\" % rmse_t)\n",
        "print(\"RMSE on test data = %g\" % rmse)"
      ]
    },
    {
      "cell_type": "markdown",
      "source": [
        "Previous results: train (3.42367), test (3.75593)"
      ],
      "metadata": {
        "id": "iy7G_KH1iq3z"
      }
    }
  ],
  "metadata": {
    "colab": {
      "collapsed_sections": [],
      "name": "Final_project.ipynb",
      "provenance": []
    },
    "kernelspec": {
      "display_name": "Python 3",
      "language": "python",
      "name": "python3"
    },
    "language_info": {
      "codemirror_mode": {
        "name": "ipython",
        "version": 3
      },
      "file_extension": ".py",
      "mimetype": "text/x-python",
      "name": "python",
      "nbconvert_exporter": "python",
      "pygments_lexer": "ipython3",
      "version": "3.8.5"
    }
  },
  "nbformat": 4,
  "nbformat_minor": 0
}
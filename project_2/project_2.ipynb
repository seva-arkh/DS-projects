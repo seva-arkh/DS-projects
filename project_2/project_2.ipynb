{
  "cells": [
    {
      "cell_type": "markdown",
      "metadata": {
        "id": "09012788"
      },
      "source": [
        "*To solve the problem, namely, building a model explaining the traffic on one of the highways for one-hourly intervals based on the training sample and generate predictions for all observations from the test sample in the traffic dataset for regression, several algorithms were used, namely: Linear regression, K-nearest neighbors, as well as random forest. These algorithms were chosen according to the following principle: to begin with, linear regression was applied, as one of the most basic and indicative algorithms performing the function of calculating the linear relationship between the dependent and independent variable, in order to later use this relationship for forecasting. Keys in dictionaries were used as hyperparameters when using a grid.*"
      ],
      "id": "09012788"
    },
    {
      "cell_type": "code",
      "execution_count": null,
      "metadata": {
        "id": "22c885e5"
      },
      "outputs": [],
      "source": [
        "import pandas as pd\n",
        "import numpy as np\n",
        "import seaborn as sns\n",
        "from sklearn.model_selection import train_test_split\n",
        "from sklearn.linear_model import LinearRegression\n",
        "from sklearn.model_selection import cross_validate\n",
        "from sklearn.model_selection import RandomizedSearchCV\n",
        "from sklearn.neighbors import KNeighborsRegressor\n",
        "from sklearn.metrics import mean_absolute_percentage_error\n",
        "from sklearn.model_selection import GridSearchCV\n",
        "from sklearn.ensemble import RandomForestRegressor\n",
        "from matplotlib import pyplot as plt\n"
      ],
      "id": "22c885e5"
    },
    {
      "cell_type": "code",
      "execution_count": null,
      "metadata": {
        "colab": {
          "base_uri": "https://localhost:8080/",
          "height": 260
        },
        "id": "69aced4c",
        "outputId": "72e92187-7fe6-4d6b-819e-67ea45b79227"
      },
      "outputs": [
        {
          "data": {
            "text/html": [
              "\n",
              "  <div id=\"df-ed7e5333-8753-4c7b-b25a-c9624989ad7a\">\n",
              "    <div class=\"colab-df-container\">\n",
              "      <div>\n",
              "<style scoped>\n",
              "    .dataframe tbody tr th:only-of-type {\n",
              "        vertical-align: middle;\n",
              "    }\n",
              "\n",
              "    .dataframe tbody tr th {\n",
              "        vertical-align: top;\n",
              "    }\n",
              "\n",
              "    .dataframe thead th {\n",
              "        text-align: right;\n",
              "    }\n",
              "</style>\n",
              "<table border=\"1\" class=\"dataframe\">\n",
              "  <thead>\n",
              "    <tr style=\"text-align: right;\">\n",
              "      <th></th>\n",
              "      <th>date_time</th>\n",
              "      <th>weather_general</th>\n",
              "      <th>weather_detailed</th>\n",
              "      <th>clouds_coverage_pct</th>\n",
              "      <th>temperature</th>\n",
              "      <th>rain_mm</th>\n",
              "      <th>snow_mm</th>\n",
              "      <th>traffic</th>\n",
              "    </tr>\n",
              "  </thead>\n",
              "  <tbody>\n",
              "    <tr>\n",
              "      <th>0</th>\n",
              "      <td>2014-10-01 00:00:00</td>\n",
              "      <td>Clear</td>\n",
              "      <td>sky is clear</td>\n",
              "      <td>1</td>\n",
              "      <td>11.5</td>\n",
              "      <td>0.0</td>\n",
              "      <td>0.0</td>\n",
              "      <td>508</td>\n",
              "    </tr>\n",
              "    <tr>\n",
              "      <th>1</th>\n",
              "      <td>2014-10-01 01:00:00</td>\n",
              "      <td>Clear</td>\n",
              "      <td>sky is clear</td>\n",
              "      <td>1</td>\n",
              "      <td>10.3</td>\n",
              "      <td>0.0</td>\n",
              "      <td>0.0</td>\n",
              "      <td>323</td>\n",
              "    </tr>\n",
              "    <tr>\n",
              "      <th>2</th>\n",
              "      <td>2014-10-01 02:00:00</td>\n",
              "      <td>Clear</td>\n",
              "      <td>sky is clear</td>\n",
              "      <td>1</td>\n",
              "      <td>8.0</td>\n",
              "      <td>0.0</td>\n",
              "      <td>0.0</td>\n",
              "      <td>274</td>\n",
              "    </tr>\n",
              "    <tr>\n",
              "      <th>3</th>\n",
              "      <td>2014-10-01 03:00:00</td>\n",
              "      <td>Clear</td>\n",
              "      <td>sky is clear</td>\n",
              "      <td>1</td>\n",
              "      <td>7.9</td>\n",
              "      <td>0.0</td>\n",
              "      <td>0.0</td>\n",
              "      <td>372</td>\n",
              "    </tr>\n",
              "    <tr>\n",
              "      <th>4</th>\n",
              "      <td>2014-10-01 04:00:00</td>\n",
              "      <td>Clear</td>\n",
              "      <td>sky is clear</td>\n",
              "      <td>1</td>\n",
              "      <td>6.4</td>\n",
              "      <td>0.0</td>\n",
              "      <td>0.0</td>\n",
              "      <td>812</td>\n",
              "    </tr>\n",
              "  </tbody>\n",
              "</table>\n",
              "</div>\n",
              "      <button class=\"colab-df-convert\" onclick=\"convertToInteractive('df-ed7e5333-8753-4c7b-b25a-c9624989ad7a')\"\n",
              "              title=\"Convert this dataframe to an interactive table.\"\n",
              "              style=\"display:none;\">\n",
              "        \n",
              "  <svg xmlns=\"http://www.w3.org/2000/svg\" height=\"24px\"viewBox=\"0 0 24 24\"\n",
              "       width=\"24px\">\n",
              "    <path d=\"M0 0h24v24H0V0z\" fill=\"none\"/>\n",
              "    <path d=\"M18.56 5.44l.94 2.06.94-2.06 2.06-.94-2.06-.94-.94-2.06-.94 2.06-2.06.94zm-11 1L8.5 8.5l.94-2.06 2.06-.94-2.06-.94L8.5 2.5l-.94 2.06-2.06.94zm10 10l.94 2.06.94-2.06 2.06-.94-2.06-.94-.94-2.06-.94 2.06-2.06.94z\"/><path d=\"M17.41 7.96l-1.37-1.37c-.4-.4-.92-.59-1.43-.59-.52 0-1.04.2-1.43.59L10.3 9.45l-7.72 7.72c-.78.78-.78 2.05 0 2.83L4 21.41c.39.39.9.59 1.41.59.51 0 1.02-.2 1.41-.59l7.78-7.78 2.81-2.81c.8-.78.8-2.07 0-2.86zM5.41 20L4 18.59l7.72-7.72 1.47 1.35L5.41 20z\"/>\n",
              "  </svg>\n",
              "      </button>\n",
              "      \n",
              "  <style>\n",
              "    .colab-df-container {\n",
              "      display:flex;\n",
              "      flex-wrap:wrap;\n",
              "      gap: 12px;\n",
              "    }\n",
              "\n",
              "    .colab-df-convert {\n",
              "      background-color: #E8F0FE;\n",
              "      border: none;\n",
              "      border-radius: 50%;\n",
              "      cursor: pointer;\n",
              "      display: none;\n",
              "      fill: #1967D2;\n",
              "      height: 32px;\n",
              "      padding: 0 0 0 0;\n",
              "      width: 32px;\n",
              "    }\n",
              "\n",
              "    .colab-df-convert:hover {\n",
              "      background-color: #E2EBFA;\n",
              "      box-shadow: 0px 1px 2px rgba(60, 64, 67, 0.3), 0px 1px 3px 1px rgba(60, 64, 67, 0.15);\n",
              "      fill: #174EA6;\n",
              "    }\n",
              "\n",
              "    [theme=dark] .colab-df-convert {\n",
              "      background-color: #3B4455;\n",
              "      fill: #D2E3FC;\n",
              "    }\n",
              "\n",
              "    [theme=dark] .colab-df-convert:hover {\n",
              "      background-color: #434B5C;\n",
              "      box-shadow: 0px 1px 3px 1px rgba(0, 0, 0, 0.15);\n",
              "      filter: drop-shadow(0px 1px 2px rgba(0, 0, 0, 0.3));\n",
              "      fill: #FFFFFF;\n",
              "    }\n",
              "  </style>\n",
              "\n",
              "      <script>\n",
              "        const buttonEl =\n",
              "          document.querySelector('#df-ed7e5333-8753-4c7b-b25a-c9624989ad7a button.colab-df-convert');\n",
              "        buttonEl.style.display =\n",
              "          google.colab.kernel.accessAllowed ? 'block' : 'none';\n",
              "\n",
              "        async function convertToInteractive(key) {\n",
              "          const element = document.querySelector('#df-ed7e5333-8753-4c7b-b25a-c9624989ad7a');\n",
              "          const dataTable =\n",
              "            await google.colab.kernel.invokeFunction('convertToInteractive',\n",
              "                                                     [key], {});\n",
              "          if (!dataTable) return;\n",
              "\n",
              "          const docLinkHtml = 'Like what you see? Visit the ' +\n",
              "            '<a target=\"_blank\" href=https://colab.research.google.com/notebooks/data_table.ipynb>data table notebook</a>'\n",
              "            + ' to learn more about interactive tables.';\n",
              "          element.innerHTML = '';\n",
              "          dataTable['output_type'] = 'display_data';\n",
              "          await google.colab.output.renderOutput(dataTable, element);\n",
              "          const docLink = document.createElement('div');\n",
              "          docLink.innerHTML = docLinkHtml;\n",
              "          element.appendChild(docLink);\n",
              "        }\n",
              "      </script>\n",
              "    </div>\n",
              "  </div>\n",
              "  "
            ],
            "text/plain": [
              "             date_time weather_general weather_detailed  clouds_coverage_pct  \\\n",
              "0  2014-10-01 00:00:00           Clear     sky is clear                    1   \n",
              "1  2014-10-01 01:00:00           Clear     sky is clear                    1   \n",
              "2  2014-10-01 02:00:00           Clear     sky is clear                    1   \n",
              "3  2014-10-01 03:00:00           Clear     sky is clear                    1   \n",
              "4  2014-10-01 04:00:00           Clear     sky is clear                    1   \n",
              "\n",
              "   temperature  rain_mm  snow_mm  traffic  \n",
              "0         11.5      0.0      0.0      508  \n",
              "1         10.3      0.0      0.0      323  \n",
              "2          8.0      0.0      0.0      274  \n",
              "3          7.9      0.0      0.0      372  \n",
              "4          6.4      0.0      0.0      812  "
            ]
          },
          "execution_count": 4,
          "metadata": {},
          "output_type": "execute_result"
        }
      ],
      "source": [
        "df = pd.read_csv('traffic_train.csv')\n",
        "df.head()"
      ],
      "id": "69aced4c"
    },
    {
      "cell_type": "markdown",
      "metadata": {
        "id": "cc939ed9"
      },
      "source": [
        "</br>The first step is to convert the datetime column"
      ],
      "id": "cc939ed9"
    },
    {
      "cell_type": "code",
      "execution_count": null,
      "metadata": {
        "colab": {
          "base_uri": "https://localhost:8080/",
          "height": 260
        },
        "id": "822645ef",
        "outputId": "1a226dcf-7de6-4db3-a4a4-05c67cd77001"
      },
      "outputs": [
        {
          "data": {
            "text/html": [
              "\n",
              "  <div id=\"df-3e8d17fe-e9b0-4840-9e0d-734ef5d8c4a5\">\n",
              "    <div class=\"colab-df-container\">\n",
              "      <div>\n",
              "<style scoped>\n",
              "    .dataframe tbody tr th:only-of-type {\n",
              "        vertical-align: middle;\n",
              "    }\n",
              "\n",
              "    .dataframe tbody tr th {\n",
              "        vertical-align: top;\n",
              "    }\n",
              "\n",
              "    .dataframe thead th {\n",
              "        text-align: right;\n",
              "    }\n",
              "</style>\n",
              "<table border=\"1\" class=\"dataframe\">\n",
              "  <thead>\n",
              "    <tr style=\"text-align: right;\">\n",
              "      <th></th>\n",
              "      <th>weather_general</th>\n",
              "      <th>weather_detailed</th>\n",
              "      <th>clouds_coverage_pct</th>\n",
              "      <th>temperature</th>\n",
              "      <th>rain_mm</th>\n",
              "      <th>snow_mm</th>\n",
              "      <th>traffic</th>\n",
              "      <th>day</th>\n",
              "      <th>year</th>\n",
              "      <th>month</th>\n",
              "      <th>hour</th>\n",
              "    </tr>\n",
              "  </thead>\n",
              "  <tbody>\n",
              "    <tr>\n",
              "      <th>0</th>\n",
              "      <td>Clear</td>\n",
              "      <td>sky is clear</td>\n",
              "      <td>1</td>\n",
              "      <td>11.5</td>\n",
              "      <td>0.0</td>\n",
              "      <td>0.0</td>\n",
              "      <td>508</td>\n",
              "      <td>Wednesday</td>\n",
              "      <td>2014</td>\n",
              "      <td>10</td>\n",
              "      <td>0</td>\n",
              "    </tr>\n",
              "    <tr>\n",
              "      <th>1</th>\n",
              "      <td>Clear</td>\n",
              "      <td>sky is clear</td>\n",
              "      <td>1</td>\n",
              "      <td>10.3</td>\n",
              "      <td>0.0</td>\n",
              "      <td>0.0</td>\n",
              "      <td>323</td>\n",
              "      <td>Wednesday</td>\n",
              "      <td>2014</td>\n",
              "      <td>10</td>\n",
              "      <td>1</td>\n",
              "    </tr>\n",
              "    <tr>\n",
              "      <th>2</th>\n",
              "      <td>Clear</td>\n",
              "      <td>sky is clear</td>\n",
              "      <td>1</td>\n",
              "      <td>8.0</td>\n",
              "      <td>0.0</td>\n",
              "      <td>0.0</td>\n",
              "      <td>274</td>\n",
              "      <td>Wednesday</td>\n",
              "      <td>2014</td>\n",
              "      <td>10</td>\n",
              "      <td>2</td>\n",
              "    </tr>\n",
              "    <tr>\n",
              "      <th>3</th>\n",
              "      <td>Clear</td>\n",
              "      <td>sky is clear</td>\n",
              "      <td>1</td>\n",
              "      <td>7.9</td>\n",
              "      <td>0.0</td>\n",
              "      <td>0.0</td>\n",
              "      <td>372</td>\n",
              "      <td>Wednesday</td>\n",
              "      <td>2014</td>\n",
              "      <td>10</td>\n",
              "      <td>3</td>\n",
              "    </tr>\n",
              "    <tr>\n",
              "      <th>4</th>\n",
              "      <td>Clear</td>\n",
              "      <td>sky is clear</td>\n",
              "      <td>1</td>\n",
              "      <td>6.4</td>\n",
              "      <td>0.0</td>\n",
              "      <td>0.0</td>\n",
              "      <td>812</td>\n",
              "      <td>Wednesday</td>\n",
              "      <td>2014</td>\n",
              "      <td>10</td>\n",
              "      <td>4</td>\n",
              "    </tr>\n",
              "  </tbody>\n",
              "</table>\n",
              "</div>\n",
              "      <button class=\"colab-df-convert\" onclick=\"convertToInteractive('df-3e8d17fe-e9b0-4840-9e0d-734ef5d8c4a5')\"\n",
              "              title=\"Convert this dataframe to an interactive table.\"\n",
              "              style=\"display:none;\">\n",
              "        \n",
              "  <svg xmlns=\"http://www.w3.org/2000/svg\" height=\"24px\"viewBox=\"0 0 24 24\"\n",
              "       width=\"24px\">\n",
              "    <path d=\"M0 0h24v24H0V0z\" fill=\"none\"/>\n",
              "    <path d=\"M18.56 5.44l.94 2.06.94-2.06 2.06-.94-2.06-.94-.94-2.06-.94 2.06-2.06.94zm-11 1L8.5 8.5l.94-2.06 2.06-.94-2.06-.94L8.5 2.5l-.94 2.06-2.06.94zm10 10l.94 2.06.94-2.06 2.06-.94-2.06-.94-.94-2.06-.94 2.06-2.06.94z\"/><path d=\"M17.41 7.96l-1.37-1.37c-.4-.4-.92-.59-1.43-.59-.52 0-1.04.2-1.43.59L10.3 9.45l-7.72 7.72c-.78.78-.78 2.05 0 2.83L4 21.41c.39.39.9.59 1.41.59.51 0 1.02-.2 1.41-.59l7.78-7.78 2.81-2.81c.8-.78.8-2.07 0-2.86zM5.41 20L4 18.59l7.72-7.72 1.47 1.35L5.41 20z\"/>\n",
              "  </svg>\n",
              "      </button>\n",
              "      \n",
              "  <style>\n",
              "    .colab-df-container {\n",
              "      display:flex;\n",
              "      flex-wrap:wrap;\n",
              "      gap: 12px;\n",
              "    }\n",
              "\n",
              "    .colab-df-convert {\n",
              "      background-color: #E8F0FE;\n",
              "      border: none;\n",
              "      border-radius: 50%;\n",
              "      cursor: pointer;\n",
              "      display: none;\n",
              "      fill: #1967D2;\n",
              "      height: 32px;\n",
              "      padding: 0 0 0 0;\n",
              "      width: 32px;\n",
              "    }\n",
              "\n",
              "    .colab-df-convert:hover {\n",
              "      background-color: #E2EBFA;\n",
              "      box-shadow: 0px 1px 2px rgba(60, 64, 67, 0.3), 0px 1px 3px 1px rgba(60, 64, 67, 0.15);\n",
              "      fill: #174EA6;\n",
              "    }\n",
              "\n",
              "    [theme=dark] .colab-df-convert {\n",
              "      background-color: #3B4455;\n",
              "      fill: #D2E3FC;\n",
              "    }\n",
              "\n",
              "    [theme=dark] .colab-df-convert:hover {\n",
              "      background-color: #434B5C;\n",
              "      box-shadow: 0px 1px 3px 1px rgba(0, 0, 0, 0.15);\n",
              "      filter: drop-shadow(0px 1px 2px rgba(0, 0, 0, 0.3));\n",
              "      fill: #FFFFFF;\n",
              "    }\n",
              "  </style>\n",
              "\n",
              "      <script>\n",
              "        const buttonEl =\n",
              "          document.querySelector('#df-3e8d17fe-e9b0-4840-9e0d-734ef5d8c4a5 button.colab-df-convert');\n",
              "        buttonEl.style.display =\n",
              "          google.colab.kernel.accessAllowed ? 'block' : 'none';\n",
              "\n",
              "        async function convertToInteractive(key) {\n",
              "          const element = document.querySelector('#df-3e8d17fe-e9b0-4840-9e0d-734ef5d8c4a5');\n",
              "          const dataTable =\n",
              "            await google.colab.kernel.invokeFunction('convertToInteractive',\n",
              "                                                     [key], {});\n",
              "          if (!dataTable) return;\n",
              "\n",
              "          const docLinkHtml = 'Like what you see? Visit the ' +\n",
              "            '<a target=\"_blank\" href=https://colab.research.google.com/notebooks/data_table.ipynb>data table notebook</a>'\n",
              "            + ' to learn more about interactive tables.';\n",
              "          element.innerHTML = '';\n",
              "          dataTable['output_type'] = 'display_data';\n",
              "          await google.colab.output.renderOutput(dataTable, element);\n",
              "          const docLink = document.createElement('div');\n",
              "          docLink.innerHTML = docLinkHtml;\n",
              "          element.appendChild(docLink);\n",
              "        }\n",
              "      </script>\n",
              "    </div>\n",
              "  </div>\n",
              "  "
            ],
            "text/plain": [
              "  weather_general weather_detailed  clouds_coverage_pct  temperature  rain_mm  \\\n",
              "0           Clear     sky is clear                    1         11.5      0.0   \n",
              "1           Clear     sky is clear                    1         10.3      0.0   \n",
              "2           Clear     sky is clear                    1          8.0      0.0   \n",
              "3           Clear     sky is clear                    1          7.9      0.0   \n",
              "4           Clear     sky is clear                    1          6.4      0.0   \n",
              "\n",
              "   snow_mm  traffic        day  year  month  hour  \n",
              "0      0.0      508  Wednesday  2014     10     0  \n",
              "1      0.0      323  Wednesday  2014     10     1  \n",
              "2      0.0      274  Wednesday  2014     10     2  \n",
              "3      0.0      372  Wednesday  2014     10     3  \n",
              "4      0.0      812  Wednesday  2014     10     4  "
            ]
          },
          "execution_count": 5,
          "metadata": {},
          "output_type": "execute_result"
        }
      ],
      "source": [
        "df['key_1'] = df['date_time'].apply(lambda x: x.split())\n",
        "df['key_2']= df['key_1'].apply(lambda x: x[0].split('-'))\n",
        "df['key_3'] = df['key_1'].apply(lambda x: x[0])\n",
        "df['date'] = pd.to_datetime(df['key_3'])\n",
        "df['day'] = df['date'].dt.day_name()\n",
        "df['year'] = df['key_2'].apply(lambda x: int(x[0]))\n",
        "df['month'] = df['key_2'].apply(lambda x: int(x[1]))\n",
        "\n",
        "df['key_2']=df['key_1'].apply(lambda x: x[1].split(':'))\n",
        "df['hour'] = df['key_2'].apply(lambda x: int(x[0]))\n",
        "df = df.drop(['date_time', 'key_1', 'key_2', 'key_3', 'date'], axis=1)\n",
        "df.head()"
      ],
      "id": "822645ef"
    },
    {
      "cell_type": "markdown",
      "metadata": {
        "id": "7c303e81"
      },
      "source": [
        "</br> Assign a numeric value to each day of the week"
      ],
      "id": "7c303e81"
    },
    {
      "cell_type": "code",
      "execution_count": null,
      "metadata": {
        "colab": {
          "base_uri": "https://localhost:8080/",
          "height": 260
        },
        "id": "51fa6a8c",
        "outputId": "796e4d1d-1bfe-47d6-eca6-2a7652603bde"
      },
      "outputs": [
        {
          "data": {
            "text/html": [
              "\n",
              "  <div id=\"df-298e3ad2-acf7-4187-bcfb-a51d90c48627\">\n",
              "    <div class=\"colab-df-container\">\n",
              "      <div>\n",
              "<style scoped>\n",
              "    .dataframe tbody tr th:only-of-type {\n",
              "        vertical-align: middle;\n",
              "    }\n",
              "\n",
              "    .dataframe tbody tr th {\n",
              "        vertical-align: top;\n",
              "    }\n",
              "\n",
              "    .dataframe thead th {\n",
              "        text-align: right;\n",
              "    }\n",
              "</style>\n",
              "<table border=\"1\" class=\"dataframe\">\n",
              "  <thead>\n",
              "    <tr style=\"text-align: right;\">\n",
              "      <th></th>\n",
              "      <th>weather_general</th>\n",
              "      <th>weather_detailed</th>\n",
              "      <th>clouds_coverage_pct</th>\n",
              "      <th>temperature</th>\n",
              "      <th>rain_mm</th>\n",
              "      <th>snow_mm</th>\n",
              "      <th>traffic</th>\n",
              "      <th>day</th>\n",
              "      <th>year</th>\n",
              "      <th>month</th>\n",
              "      <th>hour</th>\n",
              "    </tr>\n",
              "  </thead>\n",
              "  <tbody>\n",
              "    <tr>\n",
              "      <th>0</th>\n",
              "      <td>Clear</td>\n",
              "      <td>sky is clear</td>\n",
              "      <td>1</td>\n",
              "      <td>11.5</td>\n",
              "      <td>0.0</td>\n",
              "      <td>0.0</td>\n",
              "      <td>508</td>\n",
              "      <td>3</td>\n",
              "      <td>2014</td>\n",
              "      <td>10</td>\n",
              "      <td>0</td>\n",
              "    </tr>\n",
              "    <tr>\n",
              "      <th>1</th>\n",
              "      <td>Clear</td>\n",
              "      <td>sky is clear</td>\n",
              "      <td>1</td>\n",
              "      <td>10.3</td>\n",
              "      <td>0.0</td>\n",
              "      <td>0.0</td>\n",
              "      <td>323</td>\n",
              "      <td>3</td>\n",
              "      <td>2014</td>\n",
              "      <td>10</td>\n",
              "      <td>1</td>\n",
              "    </tr>\n",
              "    <tr>\n",
              "      <th>2</th>\n",
              "      <td>Clear</td>\n",
              "      <td>sky is clear</td>\n",
              "      <td>1</td>\n",
              "      <td>8.0</td>\n",
              "      <td>0.0</td>\n",
              "      <td>0.0</td>\n",
              "      <td>274</td>\n",
              "      <td>3</td>\n",
              "      <td>2014</td>\n",
              "      <td>10</td>\n",
              "      <td>2</td>\n",
              "    </tr>\n",
              "    <tr>\n",
              "      <th>3</th>\n",
              "      <td>Clear</td>\n",
              "      <td>sky is clear</td>\n",
              "      <td>1</td>\n",
              "      <td>7.9</td>\n",
              "      <td>0.0</td>\n",
              "      <td>0.0</td>\n",
              "      <td>372</td>\n",
              "      <td>3</td>\n",
              "      <td>2014</td>\n",
              "      <td>10</td>\n",
              "      <td>3</td>\n",
              "    </tr>\n",
              "    <tr>\n",
              "      <th>4</th>\n",
              "      <td>Clear</td>\n",
              "      <td>sky is clear</td>\n",
              "      <td>1</td>\n",
              "      <td>6.4</td>\n",
              "      <td>0.0</td>\n",
              "      <td>0.0</td>\n",
              "      <td>812</td>\n",
              "      <td>3</td>\n",
              "      <td>2014</td>\n",
              "      <td>10</td>\n",
              "      <td>4</td>\n",
              "    </tr>\n",
              "  </tbody>\n",
              "</table>\n",
              "</div>\n",
              "      <button class=\"colab-df-convert\" onclick=\"convertToInteractive('df-298e3ad2-acf7-4187-bcfb-a51d90c48627')\"\n",
              "              title=\"Convert this dataframe to an interactive table.\"\n",
              "              style=\"display:none;\">\n",
              "        \n",
              "  <svg xmlns=\"http://www.w3.org/2000/svg\" height=\"24px\"viewBox=\"0 0 24 24\"\n",
              "       width=\"24px\">\n",
              "    <path d=\"M0 0h24v24H0V0z\" fill=\"none\"/>\n",
              "    <path d=\"M18.56 5.44l.94 2.06.94-2.06 2.06-.94-2.06-.94-.94-2.06-.94 2.06-2.06.94zm-11 1L8.5 8.5l.94-2.06 2.06-.94-2.06-.94L8.5 2.5l-.94 2.06-2.06.94zm10 10l.94 2.06.94-2.06 2.06-.94-2.06-.94-.94-2.06-.94 2.06-2.06.94z\"/><path d=\"M17.41 7.96l-1.37-1.37c-.4-.4-.92-.59-1.43-.59-.52 0-1.04.2-1.43.59L10.3 9.45l-7.72 7.72c-.78.78-.78 2.05 0 2.83L4 21.41c.39.39.9.59 1.41.59.51 0 1.02-.2 1.41-.59l7.78-7.78 2.81-2.81c.8-.78.8-2.07 0-2.86zM5.41 20L4 18.59l7.72-7.72 1.47 1.35L5.41 20z\"/>\n",
              "  </svg>\n",
              "      </button>\n",
              "      \n",
              "  <style>\n",
              "    .colab-df-container {\n",
              "      display:flex;\n",
              "      flex-wrap:wrap;\n",
              "      gap: 12px;\n",
              "    }\n",
              "\n",
              "    .colab-df-convert {\n",
              "      background-color: #E8F0FE;\n",
              "      border: none;\n",
              "      border-radius: 50%;\n",
              "      cursor: pointer;\n",
              "      display: none;\n",
              "      fill: #1967D2;\n",
              "      height: 32px;\n",
              "      padding: 0 0 0 0;\n",
              "      width: 32px;\n",
              "    }\n",
              "\n",
              "    .colab-df-convert:hover {\n",
              "      background-color: #E2EBFA;\n",
              "      box-shadow: 0px 1px 2px rgba(60, 64, 67, 0.3), 0px 1px 3px 1px rgba(60, 64, 67, 0.15);\n",
              "      fill: #174EA6;\n",
              "    }\n",
              "\n",
              "    [theme=dark] .colab-df-convert {\n",
              "      background-color: #3B4455;\n",
              "      fill: #D2E3FC;\n",
              "    }\n",
              "\n",
              "    [theme=dark] .colab-df-convert:hover {\n",
              "      background-color: #434B5C;\n",
              "      box-shadow: 0px 1px 3px 1px rgba(0, 0, 0, 0.15);\n",
              "      filter: drop-shadow(0px 1px 2px rgba(0, 0, 0, 0.3));\n",
              "      fill: #FFFFFF;\n",
              "    }\n",
              "  </style>\n",
              "\n",
              "      <script>\n",
              "        const buttonEl =\n",
              "          document.querySelector('#df-298e3ad2-acf7-4187-bcfb-a51d90c48627 button.colab-df-convert');\n",
              "        buttonEl.style.display =\n",
              "          google.colab.kernel.accessAllowed ? 'block' : 'none';\n",
              "\n",
              "        async function convertToInteractive(key) {\n",
              "          const element = document.querySelector('#df-298e3ad2-acf7-4187-bcfb-a51d90c48627');\n",
              "          const dataTable =\n",
              "            await google.colab.kernel.invokeFunction('convertToInteractive',\n",
              "                                                     [key], {});\n",
              "          if (!dataTable) return;\n",
              "\n",
              "          const docLinkHtml = 'Like what you see? Visit the ' +\n",
              "            '<a target=\"_blank\" href=https://colab.research.google.com/notebooks/data_table.ipynb>data table notebook</a>'\n",
              "            + ' to learn more about interactive tables.';\n",
              "          element.innerHTML = '';\n",
              "          dataTable['output_type'] = 'display_data';\n",
              "          await google.colab.output.renderOutput(dataTable, element);\n",
              "          const docLink = document.createElement('div');\n",
              "          docLink.innerHTML = docLinkHtml;\n",
              "          element.appendChild(docLink);\n",
              "        }\n",
              "      </script>\n",
              "    </div>\n",
              "  </div>\n",
              "  "
            ],
            "text/plain": [
              "  weather_general weather_detailed  clouds_coverage_pct  temperature  rain_mm  \\\n",
              "0           Clear     sky is clear                    1         11.5      0.0   \n",
              "1           Clear     sky is clear                    1         10.3      0.0   \n",
              "2           Clear     sky is clear                    1          8.0      0.0   \n",
              "3           Clear     sky is clear                    1          7.9      0.0   \n",
              "4           Clear     sky is clear                    1          6.4      0.0   \n",
              "\n",
              "   snow_mm  traffic  day  year  month  hour  \n",
              "0      0.0      508    3  2014     10     0  \n",
              "1      0.0      323    3  2014     10     1  \n",
              "2      0.0      274    3  2014     10     2  \n",
              "3      0.0      372    3  2014     10     3  \n",
              "4      0.0      812    3  2014     10     4  "
            ]
          },
          "execution_count": 6,
          "metadata": {},
          "output_type": "execute_result"
        }
      ],
      "source": [
        "mapper = {'Wednesday': 3, 'Thursday': 4, 'Friday': 5, 'Saturday': 6,\n",
        "          'Sunday': 7, 'Monday': 1, 'Tuesday': 2}\n",
        "df = df.replace(mapper)\n",
        "\n",
        "df.head()"
      ],
      "id": "51fa6a8c"
    },
    {
      "cell_type": "markdown",
      "metadata": {
        "id": "3e8e436a"
      },
      "source": [
        "</br>Correlation between variables. The strongest correlation in traffic is observed with the hour."
      ],
      "id": "3e8e436a"
    },
    {
      "cell_type": "code",
      "execution_count": null,
      "metadata": {
        "colab": {
          "base_uri": "https://localhost:8080/",
          "height": 964
        },
        "id": "783d1afb",
        "outputId": "caf5d764-ebc5-4641-b908-e3f60ed9471e"
      },
      "outputs": [
        {
          "data": {
            "image/png": "[encoded data removed]",
            "text/plain": [
              "<Figure size 1080x1080 with 2 Axes>"
            ]
          },
          "metadata": {},
          "output_type": "display_data"
        }
      ],
      "source": [
        "plt.figure(figsize=(15,15))\n",
        "sns.heatmap(df.corr(),cbar=True,annot=True,cmap='Blues');"
      ],
      "id": "783d1afb"
    },
    {
      "cell_type": "markdown",
      "metadata": {
        "id": "769dbd56"
      },
      "source": [
        "</br>It is necessary to get rid of zeros and set two variables: x - for traffic and y - for everything else"
      ],
      "id": "769dbd56"
    },
    {
      "cell_type": "code",
      "execution_count": null,
      "metadata": {
        "id": "dd65be6d"
      },
      "outputs": [],
      "source": [
        "df = df.drop(df[df['traffic'] == 0].index)\n",
        "y = df['traffic'] \n",
        "x = df.drop(columns=['traffic'], axis=1)\n",
        "x = x[['clouds_coverage_pct', 'temperature', 'rain_mm',\n",
        "       'snow_mm', 'day', 'year', 'month', 'hour']]"
      ],
      "id": "dd65be6d"
    },
    {
      "cell_type": "markdown",
      "metadata": {
        "id": "72b1c2e0"
      },
      "source": [
        "</br>Histogram showing traffic during the day. The biggest indicators are observed during the so-called rush hours, at 7 am and at 4 pm."
      ],
      "id": "72b1c2e0"
    },
    {
      "cell_type": "code",
      "execution_count": null,
      "metadata": {
        "colab": {
          "base_uri": "https://localhost:8080/",
          "height": 302
        },
        "id": "3053938a",
        "outputId": "ed44b7a0-8234-4efb-e8ec-cfc4ffd2307b",
        "scrolled": true
      },
      "outputs": [
        {
          "data": {
            "text/plain": [
              "<matplotlib.axes._subplots.AxesSubplot at 0x7fb553511c50>"
            ]
          },
          "execution_count": 9,
          "metadata": {},
          "output_type": "execute_result"
        },
        {
          "data": {
            "image/png": "[encoded data removed]",
            "text/plain": [
              "<Figure size 432x288 with 1 Axes>"
            ]
          },
          "metadata": {},
          "output_type": "display_data"
        }
      ],
      "source": [
        "sns.barplot(x='hour',y='traffic', data=df, ci=None,\n",
        "           color='aliceblue',\n",
        "           edgecolor='mediumblue',\n",
        "           lw=1)"
      ],
      "id": "3053938a"
    },
    {
      "cell_type": "markdown",
      "metadata": {
        "id": "32fd6a03"
      },
      "source": [
        "</br>Traffic on different days of the week. On working days, traffic is more frequent than on weekends."
      ],
      "id": "32fd6a03"
    },
    {
      "cell_type": "code",
      "execution_count": null,
      "metadata": {
        "colab": {
          "base_uri": "https://localhost:8080/",
          "height": 302
        },
        "id": "ec6fdafc",
        "outputId": "f78970e0-2f0e-4fda-d458-95e0230ff357"
      },
      "outputs": [
        {
          "data": {
            "text/plain": [
              "<matplotlib.axes._subplots.AxesSubplot at 0x7fb55342cf50>"
            ]
          },
          "execution_count": 10,
          "metadata": {},
          "output_type": "execute_result"
        },
        {
          "data": {
            "image/png": "[encoded data removed]",
            "text/plain": [
              "<Figure size 432x288 with 1 Axes>"
            ]
          },
          "metadata": {},
          "output_type": "display_data"
        }
      ],
      "source": [
        "sns.barplot(x='day',y='traffic', data=df, ci=None,\n",
        "           color='aliceblue',\n",
        "           edgecolor='mediumblue',\n",
        "           palette='hot',\n",
        "           lw=3)"
      ],
      "id": "ec6fdafc"
    },
    {
      "cell_type": "markdown",
      "metadata": {
        "id": "fc8ff32d"
      },
      "source": [
        "</br> Traffic distribution under different weather conditions. We notice some changes in traffic with a deterioration in weather conditions"
      ],
      "id": "fc8ff32d"
    },
    {
      "cell_type": "code",
      "execution_count": null,
      "metadata": {
        "colab": {
          "base_uri": "https://localhost:8080/",
          "height": 302
        },
        "id": "88439c56",
        "outputId": "4dc36e8b-8fa4-4194-b639-602fb2c19506",
        "scrolled": true
      },
      "outputs": [
        {
          "data": {
            "text/plain": [
              "<matplotlib.axes._subplots.AxesSubplot at 0x7fb5533aeb50>"
            ]
          },
          "execution_count": 11,
          "metadata": {},
          "output_type": "execute_result"
        },
        {
          "data": {
            "image/png": "[encoded data removed]",
            "text/plain": [
              "<Figure size 432x288 with 1 Axes>"
            ]
          },
          "metadata": {},
          "output_type": "display_data"
        }
      ],
      "source": [
        "sns.barplot(x='traffic',y='weather_general', data=df, ci=None,\n",
        "           color='aliceblue',\n",
        "           edgecolor='mediumblue',\n",
        "           lw=1)"
      ],
      "id": "88439c56"
    },
    {
      "cell_type": "markdown",
      "metadata": {
        "id": "ea91ac8c"
      },
      "source": [
        "</br>Next, we make a division into train and test"
      ],
      "id": "ea91ac8c"
    },
    {
      "cell_type": "code",
      "execution_count": null,
      "metadata": {
        "id": "4d387d36"
      },
      "outputs": [],
      "source": [
        "X_train, X_test, y_train, y_test = train_test_split(x, y, test_size=0.3, random_state = 42)"
      ],
      "id": "4d387d36"
    },
    {
      "cell_type": "markdown",
      "metadata": {
        "id": "b18ec107"
      },
      "source": [
        "## </br> Linear Regression"
      ],
      "id": "b18ec107"
    },
    {
      "cell_type": "markdown",
      "metadata": {
        "id": "c475425c"
      },
      "source": [
        "</br>To begin with, we use linear regression to illustrate the results. We get the following results:"
      ],
      "id": "c475425c"
    },
    {
      "cell_type": "code",
      "execution_count": null,
      "metadata": {
        "colab": {
          "base_uri": "https://localhost:8080/"
        },
        "id": "32c7ee62",
        "outputId": "98251529-a0ef-4f66-dc8e-2042bd513dc1"
      },
      "outputs": [
        {
          "data": {
            "text/plain": [
              "array([-1.42433501, -1.34799367, -1.42825708, -4.22672909])"
            ]
          },
          "execution_count": 13,
          "metadata": {},
          "output_type": "execute_result"
        }
      ],
      "source": [
        "lR = LinearRegression()\n",
        "cv_results = cross_validate(lR, x, y, cv=4, scoring='neg_mean_absolute_percentage_error')\n",
        "cv_results['test_score']"
      ],
      "id": "32c7ee62"
    },
    {
      "cell_type": "markdown",
      "metadata": {
        "id": "3a33f8e9"
      },
      "source": [
        "</br> Using the final result of linear regression, MAPE turned out to be 1.98, which is an extremely large value"
      ],
      "id": "3a33f8e9"
    },
    {
      "cell_type": "code",
      "execution_count": null,
      "metadata": {
        "colab": {
          "base_uri": "https://localhost:8080/"
        },
        "id": "56f25dd1",
        "outputId": "6e0cbc73-2ed3-496f-837f-6c63bd097e2f"
      },
      "outputs": [
        {
          "name": "stdout",
          "output_type": "stream",
          "text": [
            "1.9836165961274104\n"
          ]
        }
      ],
      "source": [
        "lr = LinearRegression()\n",
        "lr.fit(X_train, y_train)\n",
        "pred = lr.predict(X_test)\n",
        "print(mean_absolute_percentage_error(y_test,pred))"
      ],
      "id": "56f25dd1"
    },
    {
      "cell_type": "markdown",
      "metadata": {
        "id": "1df38758"
      },
      "source": [
        "## </br> KNN"
      ],
      "id": "1df38758"
    },
    {
      "cell_type": "markdown",
      "metadata": {
        "id": "a21ba522"
      },
      "source": [
        "The second algorithm was chosen K-nearest neighbors, the essence of which is that if most of the k most similar samples (that is, the closest neighbors in the feature space) of the samples in the feature space belong to a certain category, the sample also belongs to this category. The advantages of this algorithm include accuracy, as well as suitability for rare events. One of the disadvantages is that the algorithm calculates only the \"nearest\" neighbor samples, and a certain number of samples is large, then such samples are not close to the target samples, or such samples are close to the target samples. Regardless of the fact that the number does not affect the results of the operation. As a result of applying this algorithm and comparing it with the original model, a value of 0.44 was obtained."
      ],
      "id": "a21ba522"
    },
    {
      "cell_type": "markdown",
      "metadata": {
        "id": "35cf0f08"
      },
      "source": [
        "</br> We use cross-validation in order to understand what errors we have"
      ],
      "id": "35cf0f08"
    },
    {
      "cell_type": "code",
      "execution_count": null,
      "metadata": {
        "id": "abcc9605"
      },
      "outputs": [],
      "source": [
        "model = KNeighborsRegressor()\n",
        "cv_results = cross_validate(model, x, y, cv=4, scoring='neg_mean_absolute_percentage_error')"
      ],
      "id": "abcc9605"
    },
    {
      "cell_type": "markdown",
      "metadata": {
        "id": "0ede601d"
      },
      "source": [
        "</br> The following results were obtained"
      ],
      "id": "0ede601d"
    },
    {
      "cell_type": "code",
      "execution_count": null,
      "metadata": {
        "colab": {
          "base_uri": "https://localhost:8080/"
        },
        "id": "28b38dcb",
        "outputId": "e447d2a9-ccbf-4902-c2f7-62fb665497c0"
      },
      "outputs": [
        {
          "data": {
            "text/plain": [
              "array([-0.40913218, -0.47755346, -0.45816443, -3.07808773])"
            ]
          },
          "execution_count": 16,
          "metadata": {},
          "output_type": "execute_result"
        }
      ],
      "source": [
        "cv_results['test_score']"
      ],
      "id": "28b38dcb"
    },
    {
      "cell_type": "markdown",
      "metadata": {
        "id": "94a345d0"
      },
      "source": [
        "</br> We use randomized search to select random pairs of parameters from the grid (random_grid) and designate the best model (2,2,1). "
      ],
      "id": "94a345d0"
    },
    {
      "cell_type": "code",
      "execution_count": null,
      "metadata": {
        "colab": {
          "base_uri": "https://localhost:8080/"
        },
        "id": "58fe768c",
        "outputId": "83dc127c-2fb6-46d1-d026-6d1f0ef46d23"
      },
      "outputs": [
        {
          "data": {
            "text/plain": [
              "{'leaf_size': 43, 'n_neighbors': 4, 'p': 2}"
            ]
          },
          "execution_count": 17,
          "metadata": {},
          "output_type": "execute_result"
        }
      ],
      "source": [
        "random_grid = {'n_neighbors': list(range(1,50)),\n",
        "               'leaf_size': list(range(1,50)), \n",
        "               'p': [1, 2]}\n",
        "knn = KNeighborsRegressor()\n",
        "knn_random = RandomizedSearchCV(estimator = knn, param_distributions = random_grid, cv=3, n_jobs=-1, scoring='neg_mean_absolute_percentage_error')\n",
        "knn_random.fit(X_train, y_train)\n",
        "knn_random.best_params_"
      ],
      "id": "58fe768c"
    },
    {
      "cell_type": "markdown",
      "metadata": {
        "id": "b6e8bead"
      },
      "source": [
        "</br> Next, we compare the usual model with the one that selects the best parameters. \n",
        "As a result, we get 0.76 for the standard model and 0.44 for the improved one."
      ],
      "id": "b6e8bead"
    },
    {
      "cell_type": "code",
      "execution_count": null,
      "metadata": {
        "colab": {
          "base_uri": "https://localhost:8080/"
        },
        "id": "425f116d",
        "outputId": "65715c64-6433-41ec-d29f-b9b506ea4b48"
      },
      "outputs": [
        {
          "name": "stdout",
          "output_type": "stream",
          "text": [
            "0.7686273601179997\n",
            "0.7681815066641401\n"
          ]
        }
      ],
      "source": [
        "knn_base = KNeighborsRegressor()\n",
        "knn_base.fit(X_train, y_train)\n",
        "pred = knn_base.predict(X_test)\n",
        "print(mean_absolute_percentage_error(y_test,pred))\n",
        "\n",
        "knn_best = knn_random.best_estimator_\n",
        "pred = knn_best.predict(X_test)\n",
        "print(mean_absolute_percentage_error(y_test,pred))"
      ],
      "id": "425f116d"
    },
    {
      "cell_type": "markdown",
      "metadata": {
        "id": "ecc28e29"
      },
      "source": [
        "</br> Next, narrow the search area and re-apply grid_search for 48 options. \n",
        "No improvement in the result was noticed."
      ],
      "id": "ecc28e29"
    },
    {
      "cell_type": "code",
      "execution_count": null,
      "metadata": {
        "colab": {
          "base_uri": "https://localhost:8080/"
        },
        "id": "83d2738a",
        "outputId": "21d54ee7-87c4-4d34-a16f-1350325834e9"
      },
      "outputs": [
        {
          "name": "stdout",
          "output_type": "stream",
          "text": [
            "Fitting 3 folds for each of 16 candidates, totalling 48 fits\n"
          ]
        },
        {
          "data": {
            "text/plain": [
              "{'leaf_size': 2, 'n_neighbors': 1, 'p': 1}"
            ]
          },
          "execution_count": 19,
          "metadata": {},
          "output_type": "execute_result"
        }
      ],
      "source": [
        "param_grid = {'n_neighbors': [x for x in range(1,3)],\n",
        "               'leaf_size': [x for x in range(1,5)],\n",
        "              'p': [1, 2]}\n",
        "\n",
        "knn = KNeighborsRegressor()\n",
        "grid_search = GridSearchCV(knn, param_grid, cv = 3, n_jobs = -1, verbose = 2, scoring='neg_mean_absolute_percentage_error')\n",
        "grid_search.fit(X_train, y_train)\n",
        "grid_search.best_params_"
      ],
      "id": "83d2738a"
    },
    {
      "cell_type": "markdown",
      "metadata": {
        "id": "741a8bcf"
      },
      "source": [
        "</br> We get a predictive performance result equal to 0.44."
      ],
      "id": "741a8bcf"
    },
    {
      "cell_type": "code",
      "execution_count": null,
      "metadata": {
        "colab": {
          "base_uri": "https://localhost:8080/"
        },
        "id": "4d82628f",
        "outputId": "f227dd9c-95be-497e-dd5f-18f58690f0f2"
      },
      "outputs": [
        {
          "name": "stdout",
          "output_type": "stream",
          "text": [
            "0.4401208552476486\n"
          ]
        }
      ],
      "source": [
        "knn_best = grid_search.best_estimator_\n",
        "pred = knn_best.predict(X_test)\n",
        "print(mean_absolute_percentage_error(y_test,pred))"
      ],
      "id": "4d82628f"
    },
    {
      "cell_type": "markdown",
      "metadata": {
        "id": "4aaef43f"
      },
      "source": [
        "## </br> The final algorithm applied: Random Forest"
      ],
      "id": "4aaef43f"
    },
    {
      "cell_type": "markdown",
      "metadata": {
        "id": "db5dbfbc"
      },
      "source": [
        "A random forest was chosen as the final and most efficient algorithm. The advantage of this algorithm is that it is quite versatile and quite suitable for solving our problem. This is a set of decision trees. The principle is that in the regression problem, their responses are averaged. This algorithm is the most effective and allowed to achieve the final result in 0.39"
      ],
      "id": "db5dbfbc"
    },
    {
      "cell_type": "code",
      "execution_count": null,
      "metadata": {
        "colab": {
          "background_save": true
        },
        "id": "596d3073"
      },
      "outputs": [],
      "source": [
        "model = RandomForestRegressor()\n",
        "cv_results = cross_validate(model, x, y, cv=4, scoring='neg_mean_absolute_percentage_error')"
      ],
      "id": "596d3073"
    },
    {
      "cell_type": "markdown",
      "metadata": {
        "id": "6bbbbaeb"
      },
      "source": [
        "</br>After application, we get the following results:"
      ],
      "id": "6bbbbaeb"
    },
    {
      "cell_type": "code",
      "execution_count": null,
      "metadata": {
        "colab": {
          "background_save": true
        },
        "id": "e5e62bdf",
        "outputId": "ac9ee51c-dfe1-4bea-d189-d05bbb175a59"
      },
      "outputs": [
        {
          "data": {
            "text/plain": [
              "array([-0.12657399, -0.13533993, -0.28541921, -2.82749436])"
            ]
          },
          "execution_count": null,
          "metadata": {},
          "output_type": "execute_result"
        }
      ],
      "source": [
        "cv_results['test_score']"
      ],
      "id": "e5e62bdf"
    },
    {
      "cell_type": "markdown",
      "metadata": {
        "id": "8ae7a0a9"
      },
      "source": [
        "</br>Narrowing the search area"
      ],
      "id": "8ae7a0a9"
    },
    {
      "cell_type": "code",
      "execution_count": null,
      "metadata": {
        "colab": {
          "background_save": true
        },
        "id": "8562a8c8",
        "outputId": "0ca0d06a-5e43-4232-e35c-c2fa8933fa71"
      },
      "outputs": [
        {
          "data": {
            "text/plain": [
              "{'max_depth': 65,\n",
              " 'min_samples_leaf': 3,\n",
              " 'min_samples_split': 7,\n",
              " 'n_estimators': 2}"
            ]
          },
          "execution_count": null,
          "metadata": {},
          "output_type": "execute_result"
        }
      ],
      "source": [
        "param_grid = {\n",
        "    'max_depth': [x for x in range(40, 90, 5)],\n",
        "    'min_samples_split': [x for x in range(2,10)],\n",
        "    'n_estimators': [x for x in range(1,10)],\n",
        "    'min_samples_leaf': [x for x in range(1,10)]\n",
        "}\n",
        "\n",
        "rf = RandomForestRegressor()\n",
        "rf_random = RandomizedSearchCV(estimator = rf, param_distributions = param_grid, cv=3, n_jobs=-1, scoring='neg_mean_absolute_percentage_error')\n",
        "rf_random.fit(X_train, y_train)\n",
        "rf_random.best_params_\n",
        "\n"
      ],
      "id": "8562a8c8"
    },
    {
      "cell_type": "markdown",
      "metadata": {
        "id": "e2649a97"
      },
      "source": [
        "</br>Then, as the final result, we get a predicative performance equal to 0.39"
      ],
      "id": "e2649a97"
    },
    {
      "cell_type": "code",
      "execution_count": null,
      "metadata": {
        "colab": {
          "background_save": true
        },
        "id": "5f73135d",
        "outputId": "68f0fb53-2fa3-478b-eb50-1ebeea6edbaf"
      },
      "outputs": [
        {
          "name": "stdout",
          "output_type": "stream",
          "text": [
            "0.4032702178891249\n",
            "0.4979715738001617\n"
          ]
        }
      ],
      "source": [
        "rf_base = RandomForestRegressor()\n",
        "rf_base.fit(X_train, y_train)\n",
        "pred = rf_base.predict(X_test)\n",
        "print(mean_absolute_percentage_error(y_test,pred))\n",
        "\n",
        "rf_best = rf_random.best_estimator_\n",
        "pred = rf_best.predict(X_test)\n",
        "print(mean_absolute_percentage_error(y_test,pred))"
      ],
      "id": "5f73135d"
    }
  ],
  "metadata": {
    "colab": {
      "name": "Regression Report (1).ipynb",
      "provenance": [],
      "collapsed_sections": []
    },
    "kernelspec": {
      "display_name": "Python 3 (ipykernel)",
      "language": "python",
      "name": "python3"
    },
    "language_info": {
      "codemirror_mode": {
        "name": "ipython",
        "version": 3
      },
      "file_extension": ".py",
      "mimetype": "text/x-python",
      "name": "python",
      "nbconvert_exporter": "python",
      "pygments_lexer": "ipython3",
      "version": "3.8.12"
    }
  },
  "nbformat": 4,
  "nbformat_minor": 5
}